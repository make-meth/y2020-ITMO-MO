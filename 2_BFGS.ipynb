{
 "cells": [
  {
   "cell_type": "markdown",
   "metadata": {},
   "source": [
    "### Метод BFGS"
   ]
  },
  {
   "cell_type": "markdown",
   "metadata": {},
   "source": [
    "#### Условие Вольфе\n",
    "Сперва реализуем линейный поиск с условиями Вольфе. Это нам понадобится при  реализации BFGS (он опирается на одномерный поиск, для которого соблюдение условий Вольфа обязательно)."
   ]
  },
  {
   "cell_type": "code",
   "execution_count": 351,
   "metadata": {},
   "outputs": [],
   "source": [
    "from matplotlib import pyplot as plt\n",
    "import numpy as np\n",
    "plt.rcParams[\"figure.figsize\"] = (20,10)"
   ]
  },
  {
   "cell_type": "code",
   "execution_count": 352,
   "metadata": {},
   "outputs": [],
   "source": [
    "def wolfe_search(f, x, p, grad, nabla, max_it = 20):\n",
    "    '''\n",
    "    Поиск с условиями Вольфе\n",
    "    '''\n",
    "    a = 1\n",
    "    c1 = 1e-4 \n",
    "    c2 = 0.9 \n",
    "    fx = f(*x)\n",
    "\n",
    "    x_new = x + a * p \n",
    "    nabla_new = np.array(grad(*x_new))\n",
    "    for _ in range(0, max_it):\n",
    "        if not (f(*x_new) >= fx + (c1*a*np.array(nabla).T @ p) or nabla_new.T @ p <= c2*(np.array(nabla)).T @ p):\n",
    "            break \n",
    "        a *= 0.5\n",
    "        x_new = x + a * p \n",
    "        nabla_new = np.array(grad(*x_new))\n",
    "    return a"
   ]
  },
  {
   "cell_type": "markdown",
   "metadata": {},
   "source": [
    "#### Реализация метода\n",
    "\n",
    "Что нужно иметь в виду: \n",
    "1. в алгоритме не используется и не вычисляется Гессиан как таковой, нам нужно только\n",
    "хорошее приближение.\n",
    "2. по этой причине асимптотика у каждого шага O(n^2), а не O(n^3), это важное преимущество над обычным метоодом Ньютона\n",
    "3. BFGS более общий, чем метод Гаусса-Ньютона."
   ]
  },
  {
   "cell_type": "markdown",
   "metadata": {},
   "source": [
    "$$ H_{k+1}^{-1} = \\left(I - \\frac{s_k y_k^T}{y_k^T s_k}\\right) H_k^{-1} \\left(I - \\frac{y_k s_k^T}{y_k^T s_k}\\right) + \\frac{s_k s_k^T}{y_k^T s_k} $$"
   ]
  },
  {
   "cell_type": "code",
   "execution_count": 353,
   "metadata": {},
   "outputs": [],
   "source": [
    "def BFGS(f_batch, batch_size, x0, grad, epochs = 100):\n",
    "    '''\n",
    "    Реализация BFGS\n",
    "    Параметры\n",
    "    f:      целевая функция \n",
    "    x0:     начальная гипотеза\n",
    "    epochs: максимальное число итераций \n",
    "    вывод: \n",
    "    x:      найденный минимум \n",
    "    '''\n",
    "    f = f_batch(batch_size)\n",
    "    \n",
    "    d = len(x0) # наша размерность \n",
    "    # print(f'{x0=}')\n",
    "    nabla = np.array(grad(*x0)) # градиент в начальной точке\n",
    "    I = np.eye(d) # единичная матрица\n",
    "\n",
    "    H = np.copy(I) # начальный обратный гессиан\n",
    "    x = np.copy(x0)\n",
    "\n",
    "    points = []\n",
    "    for i in range(1, epochs):\n",
    "        if np.linalg.norm(nabla) < 1e-5:\n",
    "            break \n",
    "        print(i)\n",
    "\n",
    "        p = -H @ nabla # направление поиска\n",
    "        a = wolfe_search(f, x, p, grad, nabla) # поиск с условиями Вольфе \n",
    "        s = np.array([a * p]) # величина шага (dx)\n",
    "        x_new = x + a * p \n",
    "        nabla_new = np.array(grad(*x_new))\n",
    "        y = np.array([nabla_new - nabla]) # d(nabla f)\n",
    "\n",
    "        y, s = np.reshape(y,(d,1)), np.reshape(s,(d,1))\n",
    "        y_trans, s_trans = y.transpose(), s.transpose()\n",
    "        \n",
    "        r = 1/(y_trans @ s + 1e-20)\n",
    "\n",
    "        # это можно вычислить более эффективно без временных матриц        \n",
    "        li = I-(r*(s @ (y_trans)))\n",
    "        ri = I-(r*(y @ (s_trans)))\n",
    "        hess_inter = li @ H @ ri\n",
    "        H = hess_inter + (r*(s @ s_trans)) # обновление (обратного) гессиана\n",
    "        \n",
    "        nabla = np.copy(nabla_new)\n",
    "        x = np.copy(x_new)\n",
    "        \n",
    "        points.append(x)\n",
    "    return points"
   ]
  },
  {
   "cell_type": "code",
   "execution_count": 354,
   "metadata": {},
   "outputs": [],
   "source": [
    "def grad_batch(f_batch_size, batch_size):\n",
    "    def grad_help(*args):\n",
    "        h = 1e-10\n",
    "        dim = len(args)\n",
    "        \n",
    "        f = f_batch_size(batch_size)\n",
    "        return [(\n",
    "                        f(*[args[j] + (h if j == i else 0) for j in range(dim)])\n",
    "                        -\n",
    "                        f(*[args[j] - (h if j == i else 0) for j in range(dim)])\n",
    "                ) / (2 * h)\n",
    "                for i in range(dim)]\n",
    "    return grad_help\n"
   ]
  },
  {
   "cell_type": "code",
   "execution_count": 355,
   "metadata": {},
   "outputs": [],
   "source": [
    "def regression(x, y, method, batch_size=3, **config):\n",
    "    if config == {}:\n",
    "        config = {\"lr0\": 0.5, \"d\": 0.005, \"epoch\": 1000}\n",
    "    x_mat = np.hstack((np.ones((x.shape[0], 1)), x))\n",
    "    n = x_mat.shape[1] # the dimenstion \n",
    "    \n",
    "\n",
    "    batch_choice = lambda batch_size: list(set(np.random.choice(np.arange(x.shape[0]), batch_size, replace=False)))    \n",
    "    f_batch = lambda batch_size: \\\n",
    "                       lambda *b, batch=batch_choice(batch_size): \\\n",
    "                           np.linalg.norm(y[batch] - x_mat[batch].dot(b))\n",
    "    \n",
    "    bs = np.array(method(f_batch, batch_size, np.full(n, 1), grad_batch(f_batch, batch_size)))\n",
    "    \n",
    "    f = f_batch(x.shape[0]) # the entire function \n",
    "    print(f'came close by {f(*bs[-1])}')\n",
    "    ax = plt.figure().add_subplot()\n",
    "    X = np.arange(len(bs))\n",
    "    ax.plot(X, np.vectorize(f)(*bs.T))\n",
    "    ax.grid()\n",
    "    return bs"
   ]
  },
  {
   "cell_type": "code",
   "execution_count": 356,
   "metadata": {},
   "outputs": [],
   "source": [
    "rand = lambda n: (np.random.rand(n)*2)-1\n",
    "\n",
    "def random_perfect_line(n, k, k_limit, ms_limit, debug=False):\n",
    "    m = rand(n) * ms_limit\n",
    "    s = rand(n) * ms_limit\n",
    "    ks = rand(k) * k_limit\n",
    "    xy = np.array([m + s * k for k in ks])\n",
    "    x = xy[:, :-1]\n",
    "    y = xy[:, -1]\n",
    "    return x, y\n"
   ]
  },
  {
   "cell_type": "code",
   "execution_count": 357,
   "metadata": {},
   "outputs": [],
   "source": [
    "line = random_perfect_line(25, 100, 100, 100)"
   ]
  },
  {
   "cell_type": "code",
   "execution_count": 358,
   "metadata": {},
   "outputs": [
    {
     "name": "stdout",
     "output_type": "stream",
     "text": [
      "1\n",
      "2\n",
      "3\n",
      "4\n",
      "5\n",
      "6\n",
      "7\n",
      "8\n",
      "9\n",
      "10\n",
      "11\n",
      "12\n",
      "13\n",
      "14\n",
      "15\n",
      "16\n",
      "17\n",
      "18\n",
      "19\n",
      "20\n",
      "21\n",
      "22\n",
      "23\n",
      "24\n",
      "25\n",
      "26\n",
      "27\n",
      "28\n",
      "29\n",
      "30\n",
      "31\n",
      "32\n",
      "33\n",
      "34\n",
      "35\n",
      "36\n",
      "37\n",
      "38\n",
      "39\n",
      "40\n",
      "41\n",
      "42\n",
      "43\n",
      "44\n",
      "45\n",
      "46\n",
      "47\n",
      "48\n",
      "49\n",
      "50\n",
      "51\n",
      "52\n",
      "53\n",
      "54\n",
      "55\n",
      "56\n",
      "57\n",
      "58\n",
      "59\n",
      "60\n",
      "61\n",
      "62\n",
      "63\n",
      "64\n",
      "65\n",
      "66\n",
      "67\n",
      "68\n",
      "69\n",
      "70\n",
      "71\n",
      "72\n",
      "73\n",
      "74\n",
      "75\n",
      "76\n",
      "77\n",
      "78\n",
      "79\n",
      "80\n",
      "81\n",
      "82\n",
      "83\n",
      "84\n",
      "85\n",
      "86\n",
      "87\n",
      "88\n",
      "89\n",
      "90\n",
      "91\n",
      "92\n",
      "93\n",
      "94\n",
      "95\n",
      "96\n",
      "97\n",
      "98\n",
      "99\n",
      "came close by 1979.9580840240706\n"
     ]
    },
    {
     "data": {
      "text/plain": [
       "array([[ 9.99982826e-01,  1.02113061e+00,  1.04596167e+00, ...,\n",
       "         9.78360053e-01,  1.04240478e+00,  1.02621455e+00],\n",
       "       [ 9.98935608e-01,  9.67999359e-01,  1.12571219e+00, ...,\n",
       "         9.84666768e-01,  1.12151705e+00,  1.01220712e+00],\n",
       "       [ 9.97593969e-01,  8.95227151e-01,  1.22204084e+00, ...,\n",
       "         9.94863134e-01,  1.21666032e+00,  9.91653259e-01],\n",
       "       ...,\n",
       "       [-1.12797452e+02,  5.87948131e+02,  1.49440452e+03, ...,\n",
       "        -4.77651285e+02, -1.09118999e+03,  3.56319188e+02],\n",
       "       [-1.12797452e+02,  5.87948131e+02,  1.49440452e+03, ...,\n",
       "        -4.77651285e+02, -1.09118999e+03,  3.56319188e+02],\n",
       "       [-1.12797452e+02,  5.87948131e+02,  1.49440452e+03, ...,\n",
       "        -4.77651285e+02, -1.09118999e+03,  3.56319189e+02]])"
      ]
     },
     "execution_count": 358,
     "metadata": {},
     "output_type": "execute_result"
    },
    {
     "data": {
      "image/png": "[encoded data removed]",
      "text/plain": [
       "<Figure size 1440x720 with 1 Axes>"
      ]
     },
     "metadata": {
      "needs_background": "light"
     },
     "output_type": "display_data"
    }
   ],
   "source": [
    "regression(*line, BFGS)"
   ]
  }
 ],
 "metadata": {
  "interpreter": {
   "hash": "48a429b68bfe294dfceff3aeb8f85c80ee1547a69b0bf12125e2832c4e1159cc"
  },
  "kernelspec": {
   "display_name": "Python 3.10.4 64-bit (windows store)",
   "language": "python",
   "name": "python3"
  },
  "language_info": {
   "codemirror_mode": {
    "name": "ipython",
    "version": 3
   },
   "file_extension": ".py",
   "mimetype": "text/x-python",
   "name": "python",
   "nbconvert_exporter": "python",
   "pygments_lexer": "ipython3",
   "version": "3.10.5"
  },
  "orig_nbformat": 4
 },
 "nbformat": 4,
 "nbformat_minor": 2
}
