{
 "cells": [
  {
   "cell_type": "code",
   "execution_count": 38,
   "metadata": {
    "scrolled": false
   },
   "outputs": [],
   "source": [
    "import numpy as np"
   ]
  },
  {
   "cell_type": "code",
   "execution_count": 39,
   "metadata": {
    "pycharm": {
     "name": "#%%\n"
    }
   },
   "outputs": [],
   "source": [
    "from matplotlib import pyplot as plt\n",
    "import matplotlib.lines as mlines\n",
    "from functools import partial\n",
    "\n",
    "def grad_batch(f, batch_size):\n",
    "    def grad_help(*args):\n",
    "        h = 1e-5\n",
    "        dim = len(args)\n",
    "        batch = set(np.random.choice(np.arange(dim), batch_size, replace=False))\n",
    "        return [0 if i not in batch else\n",
    "                (f(*[args[j] + (h if j == i else 0) for j in range(dim)])\n",
    "                - f(*[args[j] - (h if j == i else 0) for j in range(dim)]))\n",
    "                /(2*h)\n",
    "                for i in range(dim)]\n",
    "    return grad_help\n",
    "\n",
    "def sgd_general(batch_size, f, lr0, d, epoch, x):\n",
    "    points = np.zeros((epoch, 2))\n",
    "    points[0] = x\n",
    "    for i in range(1, epoch):\n",
    "        x = x - lr0*np.exp(-d*i) * np.array(grad_batch(f, batch_size)(*x))\n",
    "        points[i] = x\n",
    "    return points\n",
    "\n",
    "sgd = partial(sgd_general, 1)\n",
    "gd = lambda f, lr0, d, epoch, x: sgd_general( f, lr0, d, epoch, x)\n",
    "\n",
    "\n",
    "def regression(x, y):\n",
    "    if x.ndim == 1:\n",
    "        x_mat = np.array([np.full(len(x), 1), x]).T\n",
    "        k = 2\n",
    "    else:\n",
    "        x_mat = np.insert(x, 0, 1, axis=1)\n",
    "        k = len(np.array(x[0])) + 1\n",
    "    f = lambda *b: np.linalg.norm((y - x_mat.dot(np.array(b)))**2)\n",
    "    bs = sgd(f, 0.01, 0.01, 100, np.full(k, 1))\n",
    "    ax = plt.figure().add_subplot()\n",
    "    X = np.arange(len(bs))\n",
    "    ax.plot(X, np.vectorize(f)(*bs.T))\n",
    "    ax.grid()\n",
    "    if x.ndim == 1:\n",
    "        draw_2d(x, y, bs[-1])\n",
    "    return bs[-1]\n",
    "\n",
    "def draw_2d(x, y, bs):\n",
    "    points = np.concatenate([x,y]).reshape((2,len(x)))\n",
    "    ax = plt.figure().add_subplot()\n",
    "    ax.scatter(x, y)\n",
    "    tmin = points.min() - 1\n",
    "    tmax = points.max() + 1\n",
    "    X = np.array([tmin, tmax])\n",
    "    Y = (lambda z: bs[0] + bs[1] * z)(X)\n",
    "    ax.add_line(mlines.Line2D(X, Y))"
   ]
  },
  {
   "cell_type": "code",
   "execution_count": 40,
   "metadata": {
    "pycharm": {
     "name": "#%%\n"
    }
   },
   "outputs": [
    {
     "data": {
      "text/plain": "array([0.65096738, 0.41999539])"
     },
     "execution_count": 40,
     "metadata": {},
     "output_type": "execute_result"
    },
    {
     "data": {
      "text/plain": "<Figure size 432x288 with 1 Axes>",
      "image/png": "[encoded data removed]"
     },
     "metadata": {
      "needs_background": "light"
     },
     "output_type": "display_data"
    },
    {
     "data": {
      "text/plain": "<Figure size 432x288 with 1 Axes>",
      "image/png": "[encoded data removed]"
     },
     "metadata": {
      "needs_background": "light"
     },
     "output_type": "display_data"
    }
   ],
   "source": [
    "regression(np.array([-1,0,1,2, 3, 4, 5, 6, 7, 8]), np.array([0, 0,1,1, 2, 2, 3, 3, 4, 4]))"
   ]
  },
  {
   "cell_type": "code",
   "execution_count": 41,
   "metadata": {},
   "outputs": [],
   "source": [
    "# def gen_test(n, k, limit):\n",
    "#     m = random.rand(n)\n",
    "#     s = random.rand(n)\n"
   ]
  }
 ],
 "metadata": {
  "kernelspec": {
   "display_name": "Python 3 (ipykernel)",
   "language": "python",
   "name": "python3"
  },
  "language_info": {
   "codemirror_mode": {
    "name": "ipython",
    "version": 3
   },
   "file_extension": ".py",
   "mimetype": "text/x-python",
   "name": "python",
   "nbconvert_exporter": "python",
   "pygments_lexer": "ipython3",
   "version": "3.10.4"
  }
 },
 "nbformat": 4,
 "nbformat_minor": 1
}