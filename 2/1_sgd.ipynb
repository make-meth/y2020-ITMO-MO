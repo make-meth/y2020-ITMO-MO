{
 "cells": [
  {
   "cell_type": "code",
   "execution_count": 232,
   "metadata": {
    "scrolled": false
   },
   "outputs": [],
   "source": [
    "import numpy as np"
   ]
  },
  {
   "cell_type": "code",
   "execution_count": 233,
   "metadata": {
    "pycharm": {
     "name": "#%%\n"
    }
   },
   "outputs": [
    {
     "name": "stdout",
     "output_type": "stream",
     "text": [
      "b_0=0.23224484198446083, b_1=0.4567112856042504\n"
     ]
    },
    {
     "data": {
      "text/plain": "<Figure size 432x288 with 1 Axes>",
      "image/png": "[encoded data removed]"
     },
     "metadata": {
      "needs_background": "light"
     },
     "output_type": "display_data"
    }
   ],
   "source": [
    "from matplotlib import pyplot as plt\n",
    "import matplotlib.lines as mlines\n",
    "\n",
    "def grad_batch(f, batch_size):\n",
    "    def grad_help(*args):\n",
    "        h = 1e-5\n",
    "        dim = len(args)\n",
    "        batch = set(np.random.choice(np.arange(dim), batch_size, replace=False))\n",
    "        return [0 if i not in batch else\n",
    "                (f(*[args[j] + (h if j == i else 0) for j in range(dim)])\n",
    "                - f(*[args[j] - (h if j == i else 0) for j in range(dim)]))\n",
    "                /(2*h)\n",
    "                for i in range(dim)]\n",
    "    return grad_help\n",
    "\n",
    "def distance_point(line, point):\n",
    "    a = np.array(line[:2])\n",
    "    n = np.array(line[2:])\n",
    "    return np.linalg.norm((point-a) - (point-a).dot(n)*n)\n",
    "\n",
    "def distance(line, points):\n",
    "    return sum(distance_point(line, point) for point in points)\n",
    "\n",
    "def sgd(f, lr0, d, epoch, x):\n",
    "    points = np.zeros((epoch, 2))\n",
    "    points[0] = x\n",
    "    for i in range(1, epoch):\n",
    "        x = x - lr0*np.exp(-d*i) * np.array(grad_batch(f, 1)(*x))\n",
    "        points[i] = x\n",
    "    return points[-1]\n",
    "\n",
    "def regression(points):\n",
    "    n = len(points)\n",
    "    f = lambda b_0, b_1: sum((points[1] - b_0 * n  - b_1 * points[0])**2)/(2*n)\n",
    "    b_0, b_1 = sgd(f, 0.01, 0.01, 100, [1, -1])\n",
    "    line = lambda x: b_0 + b_1*x\n",
    "    print(f'{b_0=}, {b_1=}')\n",
    "    ax = plt.figure().add_subplot()\n",
    "    ax.scatter(points[0], points[1])\n",
    "    tmin = points.min() - 1\n",
    "    tmax = points.max() + 1\n",
    "    X = np.array([tmin, tmax])\n",
    "    Y = line(X)\n",
    "    ax.add_line(mlines.Line2D(X, Y))\n",
    "regression(np.array([[-1,0,1,2, 3, 4, 5, 6, 7, 8], [0, 0,1,1, 2, 2, 3, 3, 4, 4]]))"
   ]
  },
  {
   "cell_type": "code",
   "execution_count": 233,
   "metadata": {
    "pycharm": {
     "name": "#%%\n"
    }
   },
   "outputs": [],
   "source": []
  },
  {
   "cell_type": "code",
   "execution_count": 233,
   "metadata": {},
   "outputs": [],
   "source": []
  }
 ],
 "metadata": {
  "kernelspec": {
   "display_name": "Python 3 (ipykernel)",
   "language": "python",
   "name": "python3"
  },
  "language_info": {
   "codemirror_mode": {
    "name": "ipython",
    "version": 3
   },
   "file_extension": ".py",
   "mimetype": "text/x-python",
   "name": "python",
   "nbconvert_exporter": "python",
   "pygments_lexer": "ipython3",
   "version": "3.10.4"
  }
 },
 "nbformat": 4,
 "nbformat_minor": 1
}