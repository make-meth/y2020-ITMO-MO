{
 "cells": [
  {
   "cell_type": "code",
   "execution_count": null,
   "metadata": {
    "collapsed": true,
    "pycharm": {
     "name": "#%%\n",
     "is_executing": true
    }
   },
   "outputs": [],
   "source": [
    "from utils import *\n",
    "plt.rcParams[\"figure.figsize\"] = (20,10)\n",
    "f = lambda x,y: (x+0.3)**2 + (y-0.4)**2\n",
    "f = lambda x,y: (3*x+0.3)**2 + (2*y-0.4)**2\n",
    "method(lambda x,y: x**2 + y**2, 1, 1, 1, epoch = 20, d = 0, x = [0,1]) #cycles\n",
    "method(f, 1, 1, 1.2, epoch = 20, d = 0, x = [0,1]) # doesn't converge\n",
    "method(f, 1, 1, 1.2, epoch = 20, d = 0, x = [-0.3,-0.1]) # doesn't converge\n",
    "method(f, 1, 1, 0.7, epoch = 20, d = 0, x = [0,1]) # converges\n",
    "method(f, 1, 1, 0.1, epoch = 80, d = 0, x = [0,1]) # 4x steps for the same accuracy\n",
    "method(f, 1, 1, 1, epoch = 20, d = 0.1, x = [0,1]) # greater accuracy with 20 steps\n",
    "method(f, 1, 1, 1, epoch = 20, d = 0.1, x = [-0.3, 0.4]) # know the answer in advance\n",
    "method(f, 1, 1, 1, epoch = 20, d = 0.1, x = [0,0]) #doesn't change dramatically if it's any specific point"
   ]
  }
 ],
 "metadata": {
  "kernelspec": {
   "display_name": "Python 3",
   "language": "python",
   "name": "python3"
  },
  "language_info": {
   "codemirror_mode": {
    "name": "ipython",
    "version": 2
   },
   "file_extension": ".py",
   "mimetype": "text/x-python",
   "name": "python",
   "nbconvert_exporter": "python",
   "pygments_lexer": "ipython2",
   "version": "2.7.6"
  }
 },
 "nbformat": 4,
 "nbformat_minor": 0
}