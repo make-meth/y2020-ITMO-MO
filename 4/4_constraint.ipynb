{
 "cells": [
  {
   "cell_type": "markdown",
   "metadata": {},
   "source": [
    "### Линейные и нелинейные ограничения\n",
    "\n",
    "Нелинейные ограничения имеют общий вид: \n",
    "$$lb \\leqslant f(x) \\leqslant rb,$$\n",
    "где $x \\in \\mathbb{R}^n$ и $f: \\mathbb{R}^n \\to \\mathbb{R}^m$, $lb, rb \\in \\mathbb{R}^m \\cup \\{\\pm \\infty\\}$. \n",
    "Бесконечности в векторах $lb, rb$ могут быть использованы, чтобы не накладывать ограничения с обеих сторон.\n",
    "\n",
    "Линейные ограничения получаются при линейном $f$. Тогда $f$ задаётся матрицей $A$ и условие получается\n",
    "$$lb \\leqslant A.dot(x) \\leqslant rb.$$ \n",
    "\n",
    "Они используются для метода оптимизации trust_constr. Можно указать одновременно и линейные и нелинейные ограничения.\n",
    "\n",
    "Для определения нелинейных ограничений можно указать способ посчитать гессиан $f$, особенно в случаях, когда его посчитать очень сложно. Можно выбрать стратегию для его приближения (из BFGS -- всегда выбирается по умолчанию, или SR1). "
   ]
  },
  {
   "cell_type": "code",
   "execution_count": 15,
   "metadata": {},
   "outputs": [],
   "source": [
    "from scipy.optimize import *\n",
    "import numpy as np"
   ]
  },
  {
   "cell_type": "code",
   "execution_count": 16,
   "metadata": {},
   "outputs": [],
   "source": [
    "x0 = np.array([0.5, 0])"
   ]
  },
  {
   "cell_type": "code",
   "execution_count": 26,
   "metadata": {},
   "outputs": [],
   "source": [
    "linear_constraint = LinearConstraint([[1, 2], [2, 1]], [-np.inf, 1], [1, 1])"
   ]
  },
  {
   "cell_type": "code",
   "execution_count": 27,
   "metadata": {
    "collapsed": true
   },
   "outputs": [
    {
     "name": "stdout",
     "output_type": "stream",
     "text": [
      "`gtol` termination condition is satisfied.\n",
      "Number of iterations: 13, function evaluations: 9, CG iterations: 8, optimality: 6.40e-09, constraint violation: 0.00e+00, execution time: 0.036 s.\n"
     ]
    }
   ],
   "source": [
    "x0 = np.array([0.5, 0])\n",
    "res = minimize(rosen, x0, method='trust-constr', jac=rosen_der, hess=rosen_hess, constraints=[linear_constraint],options={'verbose': 1})"
   ]
  },
  {
   "cell_type": "code",
   "execution_count": 25,
   "metadata": {},
   "outputs": [
    {
     "data": {
      "text/plain": [
       "array([0.41494542, 0.17010916])"
      ]
     },
     "execution_count": 25,
     "metadata": {},
     "output_type": "execute_result"
    }
   ],
   "source": [
    "res.x"
   ]
  }
 ],
 "metadata": {
  "kernelspec": {
   "display_name": "Python 3.10.5 64-bit (windows store)",
   "language": "python",
   "name": "python3"
  },
  "language_info": {
   "codemirror_mode": {
    "name": "ipython",
    "version": 3
   },
   "file_extension": ".py",
   "mimetype": "text/x-python",
   "name": "python",
   "nbconvert_exporter": "python",
   "pygments_lexer": "ipython3",
   "version": "3.10.5"
  },
  "vscode": {
   "interpreter": {
    "hash": "48a429b68bfe294dfceff3aeb8f85c80ee1547a69b0bf12125e2832c4e1159cc"
   }
  }
 },
 "nbformat": 4,
 "nbformat_minor": 0
}
