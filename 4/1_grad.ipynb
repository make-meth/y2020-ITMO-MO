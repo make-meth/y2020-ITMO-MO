{
 "cells": [
  {
   "cell_type": "code",
   "execution_count": 57,
   "metadata": {
    "collapsed": true
   },
   "outputs": [
    {
     "name": "stdout",
     "output_type": "stream",
     "text": [
      "[719518. 417886.  -9426.]\n"
     ]
    }
   ],
   "source": [
    "import torch\n",
    "\n",
    "def grad(func, point):\n",
    "    x = torch.tensor(point, requires_grad=True)\n",
    "    y = func(*x)\n",
    "    y.backward()\n",
    "    return x.grad\n",
    "\n",
    "f = lambda *x: (9*x[0]**2 + 7*x[0]*x[1] + 5*x[1]**2 - 3*x[2] - 7*x[1]) ** 2\n",
    "print(grad(f, [10.0, 7.0, 5.0]).numpy())"
   ]
  }
 ],
 "metadata": {
  "kernelspec": {
   "display_name": "Python 3",
   "language": "python",
   "name": "python3"
  },
  "language_info": {
   "codemirror_mode": {
    "name": "ipython",
    "version": 2
   },
   "file_extension": ".py",
   "mimetype": "text/x-python",
   "name": "python",
   "nbconvert_exporter": "python",
   "pygments_lexer": "ipython2",
   "version": "2.7.6"
  }
 },
 "nbformat": 4,
 "nbformat_minor": 0
}