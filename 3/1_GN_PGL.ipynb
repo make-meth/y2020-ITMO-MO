{
 "cells": [
  {
   "cell_type": "code",
   "execution_count": 1,
   "metadata": {
    "collapsed": true
   },
   "outputs": [],
   "source": [
    "from matplotlib import pyplot as plt\n",
    "import numpy as np\n",
    "plt.rcParams[\"figure.figsize\"] = (20,10)"
   ]
  },
  {
   "cell_type": "code",
   "execution_count": 44,
   "outputs": [],
   "source": [
    "class Poly:\n",
    "    \"\"\"\"\n",
    "        c_0 + c_1 x + c_2 x^2 + .. + c_deg x^deg\n",
    "    \"\"\"\n",
    "    def __init__(self, *, deg=2, coeffs=None):\n",
    "        if coeffs is not None:\n",
    "            self.coeffs = np.array(coeffs)\n",
    "        else:\n",
    "            self.coeffs = np.ones(deg+1)\n",
    "\n",
    "    # def __isub__(self, ):\n",
    "\n",
    "    def __call__(self, x):\n",
    "        return sum(c_i * x**i for (i, c_i) in enumerate(self.coeffs))\n",
    "\n",
    "    def grad(self, x):\n",
    "        return np.array([x**i for (i, c_ip1) in enumerate(self.coeffs[:])]).T[0] # (i+1) * c_ip1 *\n",
    "\n",
    "    def hessian(self, x):\n",
    "        return np.diag(list((i+1) * c_ip1 * x**i for (i, c_ip1) in enumerate(self.coeffs[1:])))"
   ],
   "metadata": {
    "collapsed": false,
    "pycharm": {
     "name": "#%%\n"
    }
   }
  },
  {
   "cell_type": "code",
   "execution_count": 80,
   "outputs": [
    {
     "name": "stdout",
     "output_type": "stream",
     "text": [
      "np.array([test(x_i) for x_i in x])=array([[111.  ],\n",
      "       [  4.75],\n",
      "       [111.  ]])\n",
      "y=array([   0,   50, -100])\n",
      "f(test)=array([[-111.  ,  -61.  , -211.  ],\n",
      "       [  -4.75,   45.25, -104.75],\n",
      "       [-111.  ,  -61.  , -211.  ]])\n",
      "j=array([[  -1.  ,  -10.  , -100.  ],\n",
      "       [  -1.  ,    2.5 ,   -6.25],\n",
      "       [  -1.  ,  -10.  , -100.  ]])\n",
      "x_poly.coeffs=array([0., 0., 0.])\n",
      "f(x_poly)=array([[   0.,   50., -100.],\n",
      "       [   0.,   50., -100.],\n",
      "       [   0.,   50., -100.]])\n",
      "f(x_poly).reshape(-1,1)=array([[   0.],\n",
      "       [  50.],\n",
      "       [-100.],\n",
      "       [   0.],\n",
      "       [  50.],\n",
      "       [-100.],\n",
      "       [   0.],\n",
      "       [  50.],\n",
      "       [-100.]])\n"
     ]
    },
    {
     "ename": "ValueError",
     "evalue": "matmul: Input operand 1 has a mismatch in its core dimension 0, with gufunc signature (n?,k),(k,m?)->(n?,m?) (size 9 is different from 3)",
     "output_type": "error",
     "traceback": [
      "\u001B[0;31m---------------------------------------------------------------------------\u001B[0m",
      "\u001B[0;31mValueError\u001B[0m                                Traceback (most recent call last)",
      "Input \u001B[0;32mIn [80]\u001B[0m, in \u001B[0;36m<cell line: 40>\u001B[0;34m()\u001B[0m\n\u001B[1;32m     37\u001B[0m         points[i] \u001B[38;5;241m=\u001B[39m x_poly\u001B[38;5;241m.\u001B[39mcoeffs\n\u001B[1;32m     38\u001B[0m     \u001B[38;5;28;01mreturn\u001B[39;00m points\n\u001B[0;32m---> 40\u001B[0m \u001B[43mregression\u001B[49m\u001B[43m(\u001B[49m\u001B[43mnp\u001B[49m\u001B[38;5;241;43m.\u001B[39;49m\u001B[43marray\u001B[49m\u001B[43m(\u001B[49m\u001B[43m[\u001B[49m\u001B[43m[\u001B[49m\u001B[38;5;241;43m10\u001B[39;49m\u001B[43m]\u001B[49m\u001B[43m,\u001B[49m\u001B[43m \u001B[49m\u001B[43m[\u001B[49m\u001B[38;5;241;43m-\u001B[39;49m\u001B[38;5;241;43m2.5\u001B[39;49m\u001B[43m]\u001B[49m\u001B[43m,\u001B[49m\u001B[43m \u001B[49m\u001B[43m[\u001B[49m\u001B[38;5;241;43m10\u001B[39;49m\u001B[43m]\u001B[49m\u001B[43m]\u001B[49m\u001B[43m)\u001B[49m\u001B[43m,\u001B[49m\u001B[43m \u001B[49m\u001B[43mnp\u001B[49m\u001B[38;5;241;43m.\u001B[39;49m\u001B[43marray\u001B[49m\u001B[43m(\u001B[49m\u001B[43m[\u001B[49m\u001B[38;5;241;43m0\u001B[39;49m\u001B[43m,\u001B[49m\u001B[43m \u001B[49m\u001B[38;5;241;43m50\u001B[39;49m\u001B[43m,\u001B[49m\u001B[43m \u001B[49m\u001B[38;5;241;43m-\u001B[39;49m\u001B[38;5;241;43m100\u001B[39;49m\u001B[43m]\u001B[49m\u001B[43m)\u001B[49m\u001B[43m,\u001B[49m\u001B[43m \u001B[49m\u001B[43mgauss_newton\u001B[49m\u001B[43m,\u001B[49m\u001B[43m \u001B[49m\u001B[43mlr\u001B[49m\u001B[38;5;241;43m=\u001B[39;49m\u001B[38;5;241;43m0.9\u001B[39;49m\u001B[43m,\u001B[49m\u001B[43m \u001B[49m\u001B[43mepoch\u001B[49m\u001B[38;5;241;43m=\u001B[39;49m\u001B[38;5;241;43m5\u001B[39;49m\u001B[43m)\u001B[49m\n",
      "Input \u001B[0;32mIn [80]\u001B[0m, in \u001B[0;36mregression\u001B[0;34m(x, y, method, **config)\u001B[0m\n\u001B[1;32m      8\u001B[0m \u001B[38;5;28mprint\u001B[39m(\u001B[38;5;124mf\u001B[39m\u001B[38;5;124m'\u001B[39m\u001B[38;5;132;01m{\u001B[39;00mnp\u001B[38;5;241m.\u001B[39marray([test(x_i) \u001B[38;5;28;01mfor\u001B[39;00m x_i \u001B[38;5;129;01min\u001B[39;00m x])\u001B[38;5;132;01m=}\u001B[39;00m\u001B[38;5;130;01m\\n\u001B[39;00m\u001B[38;5;132;01m{\u001B[39;00my\u001B[38;5;132;01m=}\u001B[39;00m\u001B[38;5;130;01m\\n\u001B[39;00m\u001B[38;5;132;01m{\u001B[39;00mf(test)\u001B[38;5;132;01m=}\u001B[39;00m\u001B[38;5;124m'\u001B[39m)\n\u001B[1;32m      9\u001B[0m jacobi \u001B[38;5;241m=\u001B[39m \u001B[38;5;28;01mlambda\u001B[39;00m x_poly: np\u001B[38;5;241m.\u001B[39marray([\u001B[38;5;241m-\u001B[39m x_poly\u001B[38;5;241m.\u001B[39mgrad(x[i]) \u001B[38;5;28;01mfor\u001B[39;00m i \u001B[38;5;129;01min\u001B[39;00m \u001B[38;5;28mrange\u001B[39m(\u001B[38;5;28mlen\u001B[39m(x))])\n\u001B[0;32m---> 10\u001B[0m bs \u001B[38;5;241m=\u001B[39m \u001B[43mmethod\u001B[49m\u001B[43m(\u001B[49m\u001B[43mf\u001B[49m\u001B[43m,\u001B[49m\u001B[43m \u001B[49m\u001B[43mnp\u001B[49m\u001B[38;5;241;43m.\u001B[39;49m\u001B[43mzeros\u001B[49m\u001B[43m(\u001B[49m\u001B[38;5;28;43mlen\u001B[39;49m\u001B[43m(\u001B[49m\u001B[43mx\u001B[49m\u001B[43m)\u001B[49m\u001B[43m)\u001B[49m\u001B[43m,\u001B[49m\u001B[43m \u001B[49m\u001B[38;5;241;43m*\u001B[39;49m\u001B[38;5;241;43m*\u001B[39;49m\u001B[43mconfig\u001B[49m\u001B[43m,\u001B[49m\u001B[43m \u001B[49m\u001B[43mjacobi\u001B[49m\u001B[38;5;241;43m=\u001B[39;49m\u001B[43mjacobi\u001B[49m\u001B[43m)\u001B[49m\n\u001B[1;32m     11\u001B[0m \u001B[38;5;28mprint\u001B[39m(\u001B[38;5;124m'\u001B[39m\u001B[38;5;124mhm\u001B[39m\u001B[38;5;124m'\u001B[39m)\n\u001B[1;32m     12\u001B[0m \u001B[38;5;28mprint\u001B[39m(\u001B[38;5;124mf\u001B[39m\u001B[38;5;124m'\u001B[39m\u001B[38;5;124mcame close by \u001B[39m\u001B[38;5;132;01m{\u001B[39;00mf(Poly(coeffs\u001B[38;5;241m=\u001B[39mbs[\u001B[38;5;241m-\u001B[39m\u001B[38;5;241m1\u001B[39m]))\u001B[38;5;132;01m}\u001B[39;00m\u001B[38;5;124m'\u001B[39m)\n",
      "Input \u001B[0;32mIn [80]\u001B[0m, in \u001B[0;36mgauss_newton\u001B[0;34m(f, x, lr, epoch, jacobi)\u001B[0m\n\u001B[1;32m     28\u001B[0m \u001B[38;5;28mprint\u001B[39m(\u001B[38;5;124mf\u001B[39m\u001B[38;5;124m'\u001B[39m\u001B[38;5;132;01m{\u001B[39;00mj\u001B[38;5;132;01m=}\u001B[39;00m\u001B[38;5;130;01m\\n\u001B[39;00m\u001B[38;5;132;01m{\u001B[39;00mx_poly\u001B[38;5;241m.\u001B[39mcoeffs\u001B[38;5;132;01m=}\u001B[39;00m\u001B[38;5;130;01m\\n\u001B[39;00m\u001B[38;5;132;01m{\u001B[39;00mf(x_poly)\u001B[38;5;132;01m=}\u001B[39;00m\u001B[38;5;130;01m\\n\u001B[39;00m\u001B[38;5;132;01m{\u001B[39;00mf(x_poly)\u001B[38;5;241m.\u001B[39mreshape(\u001B[38;5;241m-\u001B[39m\u001B[38;5;241m1\u001B[39m,\u001B[38;5;241m1\u001B[39m)\u001B[38;5;132;01m=}\u001B[39;00m\u001B[38;5;124m'\u001B[39m)\n\u001B[1;32m     29\u001B[0m \u001B[38;5;66;03m# g = 2 * j * f(x_poly)\u001B[39;00m\n\u001B[0;32m---> 30\u001B[0m g \u001B[38;5;241m=\u001B[39m \u001B[43mnp\u001B[49m\u001B[38;5;241;43m.\u001B[39;49m\u001B[43mmatmul\u001B[49m\u001B[43m(\u001B[49m\u001B[43mj\u001B[49m\u001B[38;5;241;43m.\u001B[39;49m\u001B[43mT\u001B[49m\u001B[43m,\u001B[49m\u001B[43m \u001B[49m\u001B[43mf\u001B[49m\u001B[43m(\u001B[49m\u001B[43mx_poly\u001B[49m\u001B[43m)\u001B[49m\u001B[38;5;241;43m.\u001B[39;49m\u001B[43mreshape\u001B[49m\u001B[43m(\u001B[49m\u001B[38;5;241;43m-\u001B[39;49m\u001B[38;5;241;43m1\u001B[39;49m\u001B[43m,\u001B[49m\u001B[38;5;241;43m1\u001B[39;49m\u001B[43m)\u001B[49m\u001B[43m)\u001B[49m\n\u001B[1;32m     31\u001B[0m h \u001B[38;5;241m=\u001B[39m np\u001B[38;5;241m.\u001B[39mmatmul(j\u001B[38;5;241m.\u001B[39mT,j)\n\u001B[1;32m     32\u001B[0m p \u001B[38;5;241m=\u001B[39m (np\u001B[38;5;241m.\u001B[39mlinalg\u001B[38;5;241m.\u001B[39minv(h) \u001B[38;5;241m*\u001B[39m g)\n",
      "\u001B[0;31mValueError\u001B[0m: matmul: Input operand 1 has a mismatch in its core dimension 0, with gufunc signature (n?,k),(k,m?)->(n?,m?) (size 9 is different from 3)"
     ]
    }
   ],
   "source": [
    "def regression(x, y, method, **config):\n",
    "    if config == {}:\n",
    "        config = {\"lr0\": 0.5, \"d\": 0.005, \"epoch\": 1000}\n",
    "    x_mat = np.hstack((np.ones((x.shape[0], 1)), x))\n",
    "    k = x_mat.shape[1]\n",
    "    f = lambda x_poly: y - x_poly(x)\n",
    "    test = Poly(coeffs=np.full(len(x), 1))\n",
    "    print(f'{np.array([test(x_i) for x_i in x])=}\\n{y=}\\n{f(test)=}')\n",
    "    jacobi = lambda x_poly: np.array([- x_poly.grad(x[i]) for i in range(len(x))])\n",
    "    bs = method(f, np.zeros(len(x)), **config, jacobi=jacobi)\n",
    "    print('hm')\n",
    "    print(f'came close by {f(Poly(coeffs=bs[-1]))}')\n",
    "    # ax = plt.figure().add_subplot()\n",
    "    # X = np.arange(len(bs))\n",
    "    # ax.plot(X, np.vectorize(f(Poly(coeffs=bs[-1])))(*bs.T))\n",
    "    # ax.grid()\n",
    "    # if len(x[0]) == 1:\n",
    "    #     draw_2d(x, y, bs[-1   ])\n",
    "    return bs[-1]\n",
    "\n",
    "def gauss_newton(f, x, *, lr, epoch, jacobi):\n",
    "    points = np.zeros((epoch, len(x)))\n",
    "    x_poly = Poly(coeffs=x)\n",
    "    points[0] = x_poly.coeffs\n",
    "\n",
    "    for i in range(1, epoch):\n",
    "        j = jacobi(x_poly)\n",
    "        print(f'{j=}\\n{x_poly.coeffs=}\\n{f(x_poly)=}\\n{f(x_poly).reshape(-1,1)=}')\n",
    "        # g = 2 * j * f(x_poly)\n",
    "        g = np.matmul(j.T, f(x_poly).reshape(-1,1))\n",
    "        h = np.matmul(j.T,j)\n",
    "        p = (np.linalg.inv(h) * g)\n",
    "        print(f'{g=}\\n{h=}\\n{p=}\\n{np.linalg.inv(h)=}\\n--------------------------------------------------------------------')\n",
    "        # print(f'{p=}')\n",
    "        # print(f'{x_poly.coeffs=}\\n-\\n{p=}')\n",
    "        x_poly.coeffs -= lr * p\n",
    "        points[i] = x_poly.coeffs\n",
    "    return points\n",
    "\n",
    "regression(np.array([[10], [-2.5], [10]]), np.array([0, 50, -100]), gauss_newton, lr=0.9, epoch=5)"
   ],
   "metadata": {
    "collapsed": false,
    "pycharm": {
     "name": "#%%\n"
    }
   }
  },
  {
   "cell_type": "code",
   "execution_count": null,
   "outputs": [],
   "source": [
    "\n",
    "\n"
   ],
   "metadata": {
    "collapsed": false,
    "pycharm": {
     "name": "#%%\n"
    }
   }
  }
 ],
 "metadata": {
  "kernelspec": {
   "display_name": "Python 3",
   "language": "python",
   "name": "python3"
  },
  "language_info": {
   "codemirror_mode": {
    "name": "ipython",
    "version": 2
   },
   "file_extension": ".py",
   "mimetype": "text/x-python",
   "name": "python",
   "nbconvert_exporter": "python",
   "pygments_lexer": "ipython2",
   "version": "2.7.6"
  }
 },
 "nbformat": 4,
 "nbformat_minor": 0
}