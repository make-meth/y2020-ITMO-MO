{
 "cells": [
  {
   "cell_type": "code",
   "execution_count": 2,
   "metadata": {
    "collapsed": true
   },
   "outputs": [],
   "source": [
    "from matplotlib import pyplot as plt\n",
    "import matplotlib.lines as mlines\n",
    "import numpy as np\n",
    "plt.rcParams[\"figure.figsize\"] = (20,10)"
   ]
  },
  {
   "cell_type": "code",
   "execution_count": 81,
   "metadata": {
    "collapsed": false,
    "pycharm": {
     "name": "#%%\n"
    }
   },
   "outputs": [],
   "source": [
    "class Poly:\n",
    "    \"\"\"\"\n",
    "        c_0 + c_1 x + c_2 x^2 + .. + c_deg x^deg\n",
    "    \"\"\"\n",
    "    def __init__(self, *, deg=2, coeffs=None):\n",
    "        if coeffs is not None:\n",
    "            self.coeffs = np.array(coeffs)\n",
    "        else:\n",
    "            self.coeffs = np.ones(deg+1)\n",
    "\n",
    "    def __call__(self, x):\n",
    "        return sum(c_i * x**i for (i, c_i) in enumerate(self.coeffs))\n",
    "\n",
    "    def grad(self, x):\n",
    "        return np.array([x**i for (i, c_ip1) in enumerate(self.coeffs[:])]).T[0]\n",
    "\n",
    "    def hessian(self, x):\n",
    "        return np.diag(list(x**i for (i, c_ip1) in enumerate(self.coeffs[:])))"
   ]
  },
  {
   "cell_type": "code",
   "execution_count": 94,
   "metadata": {
    "collapsed": false,
    "pycharm": {
     "name": "#%%\n"
    }
   },
   "outputs": [
    {
     "name": "stdout",
     "output_type": "stream",
     "text": [
      "hm\n",
      "came close by [-2.47268872e-12 -2.40163445e-12 -7.94386779e-12 -4.60431693e-12]\n"
     ]
    },
    {
     "data": {
      "text/plain": [
       "array([1.00000000e+00, 4.71844785e-15, 1.00000000e+00])"
      ]
     },
     "execution_count": 4,
     "metadata": {},
     "output_type": "execute_result"
    }
   ],
   "source": [
    "def regression(x, y, method, **config):\n",
    "    if config == {}:\n",
    "        config = {\"lr0\": 0.5, \"d\": 0.005, \"epoch\": 1000}\n",
    "    f = lambda x_poly: y - x_poly(x.T[0])\n",
    "    jacobi = lambda x_poly: np.array([- x_poly.grad(x[i]) for i in range(len(x))])\n",
    "    bs = method(f, np.zeros(len(x)), **config, jacobi=jacobi)\n",
    "    print('hm')\n",
    "    print(f'came close by {f(Poly(coeffs=bs[-1]))}')\n",
    "    return bs[-1]\n",
    "\n",
    "def gauss_newton(f, x, *, lr, epoch, jacobi):\n",
    "    points = np.zeros((epoch, len(x)))\n",
    "    x_poly = Poly(coeffs=x)\n",
    "    points[0] = x_poly.coeffs\n",
    "\n",
    "    for i in range(epoch):\n",
    "        j = jacobi(x_poly)\n",
    "        g = np.matmul(j.T, f(x_poly).reshape(-1,1))\n",
    "        h = np.matmul(j.T,j)\n",
    "        p = np.matmul(np.linalg.inv(h), g).T[0]\n",
    "        x_poly.coeffs -= lr * p\n",
    "        points[i] = x_poly.coeffs\n",
    "    return points\n",
    "\n",
    "regression(np.array([[-2], [3], [5]]), np.array([5, 10, 26]), gauss_newton, lr=1, epoch=2)"
   ]
  },
  {
   "cell_type": "code",
   "execution_count": null,
   "metadata": {
    "collapsed": false,
    "pycharm": {
     "name": "#%%\n"
    }
   },
   "outputs": [],
   "source": [
    "\n",
    "\n"
   ]
  }
 ],
 "metadata": {
  "kernelspec": {
   "display_name": "Python 3",
   "language": "python",
   "name": "python3"
  },
  "language_info": {
   "codemirror_mode": {
    "name": "ipython",
    "version": 2
   },
   "file_extension": ".py",
   "mimetype": "text/x-python",
   "name": "python",
   "nbconvert_exporter": "python",
   "pygments_lexer": "ipython2",
   "version": "2.7.6"
  }
 },
 "nbformat": 4,
 "nbformat_minor": 0
}
