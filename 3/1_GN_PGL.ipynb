{
 "cells": [
  {
   "cell_type": "code",
   "execution_count": 33,
   "metadata": {
    "collapsed": true
   },
   "outputs": [],
   "source": [
    "from matplotlib import pyplot as plt\n",
    "import matplotlib.lines as mlines\n",
    "import numpy as np\n",
    "plt.rcParams[\"figure.figsize\"] = (20,10)"
   ]
  },
  {
   "cell_type": "code",
   "execution_count": 34,
   "outputs": [],
   "source": [
    "class Poly:\n",
    "    \"\"\"\"\n",
    "        c_0 + c_1 x + c_2 x^2 + .. + c_deg x^deg\n",
    "    \"\"\"\n",
    "    def __init__(self, *, deg=2, coeffs=None):\n",
    "        if coeffs is not None:\n",
    "            self.coeffs = np.array(coeffs)\n",
    "        else:\n",
    "            self.coeffs = np.ones(deg+1)\n",
    "\n",
    "    def __call__(self, x):\n",
    "        return sum(c_i * x**i for (i, c_i) in enumerate(self.coeffs))\n",
    "\n",
    "    def grad(self, x):\n",
    "        return np.array([x**i for (i, c_ip1) in enumerate(self.coeffs[:])]).T[0]\n",
    "\n",
    "    def hessian(self, x):\n",
    "        return np.diag(list(x**i for (i, c_ip1) in enumerate(self.coeffs[:])))"
   ],
   "metadata": {
    "collapsed": false,
    "pycharm": {
     "name": "#%%\n"
    }
   }
  },
  {
   "cell_type": "code",
   "execution_count": 35,
   "outputs": [
    {
     "data": {
      "text/plain": "array([ 1.00000000e+00, -4.40536496e-13,  1.00000000e+00,  2.84217094e-14])"
     },
     "execution_count": 35,
     "metadata": {},
     "output_type": "execute_result"
    }
   ],
   "source": [
    "def regression(x, y, method, **config):\n",
    "    if config == {}:\n",
    "        config = {\"lr0\": 0.5, \"d\": 0.005, \"epoch\": 1000}\n",
    "    f = lambda x_poly: y - x_poly(x.T[0])\n",
    "    jacobi = lambda x_poly: np.array([- x_poly.grad(x[i]) for i in range(len(x))])\n",
    "    bs = method(f, np.zeros(len(x)), **config, jacobi=jacobi)\n",
    "    # print('hm')\n",
    "    # print(f'came close by {f(Poly(coeffs=bs[-1]))}')\n",
    "    return bs[-1]\n",
    "\n",
    "def gauss_newton(f, x, *, lr, epoch, jacobi):\n",
    "    points = np.zeros((epoch, len(x)))\n",
    "    x_poly = Poly(coeffs=x)\n",
    "    points[0] = x_poly.coeffs\n",
    "\n",
    "    for i in range(epoch):\n",
    "        j = jacobi(x_poly)\n",
    "        g = np.matmul(j.T, f(x_poly).reshape(-1,1))\n",
    "        h = np.matmul(j.T,j)\n",
    "        p = np.matmul(np.linalg.inv(h), g).T[0]\n",
    "        x_poly.coeffs -= lr * p\n",
    "        points[i] = x_poly.coeffs\n",
    "    return points\n",
    "\n",
    "def test_gn(coeffs, points, **config):\n",
    "    coeffs = np.array(coeffs)\n",
    "    points = np.array(points)\n",
    "    test_poly = Poly(coeffs=coeffs)\n",
    "    res = regression(np.array(points.reshape(-1,1)),test_poly(points),gauss_newton, **config)\n",
    "    print(f'GN result for {coeffs} is\\n{res}')\n",
    "    return res\n",
    "\n",
    "regression(np.array([[-2], [3], [5], [4]]), np.array([5, 10, 26, 17]), gauss_newton, lr=1, epoch=1)"
   ],
   "metadata": {
    "collapsed": false,
    "pycharm": {
     "name": "#%%\n"
    }
   }
  },
  {
   "cell_type": "code",
   "execution_count": 41,
   "outputs": [
    {
     "name": "stdout",
     "output_type": "stream",
     "text": [
      "PDL result for [1 0 1] is\n",
      "[0.99999952 0.         0.9999995 ]\n",
      "GN result for [1 0 1] is\n",
      "[1. 0. 1.]\n",
      "PDL result for [1 0 1] is\n",
      "[ 1.00005446e+00 -4.82854548e-06  1.00005082e+00 -8.91550443e-06\n",
      " -3.41803695e-06]\n",
      "GN result for [1 0 1] is\n",
      "[ 1.00000000e+00  3.81028542e-13  1.00000000e+00 -1.84963156e-13\n",
      "  3.54161145e-14]\n",
      "PDL result for [1 0 1 0 1 2] is\n",
      "[9.79021546e-01 6.96281223e-04 9.81089080e-01 5.48161037e-03\n",
      " 1.00035233e+00 1.99948238e+00]\n",
      "GN result for [1 0 1 0 1 2] is\n",
      "[ 9.99999998e-01 -2.61934474e-10  1.00000000e+00  0.00000000e+00\n",
      "  1.00000000e+00  2.00000000e+00]\n"
     ]
    },
    {
     "data": {
      "text/plain": "array([ 9.99999998e-01, -2.61934474e-10,  1.00000000e+00,  0.00000000e+00,\n        1.00000000e+00,  2.00000000e+00])"
     },
     "execution_count": 41,
     "metadata": {},
     "output_type": "execute_result"
    }
   ],
   "source": [
    "def dogleg_method_step(grad_k, hessian_k, trust_radius):\n",
    "    hessian_k_inv = np.linalg.inv(hessian_k)\n",
    "    dx_newton = -np.matmul(hessian_k_inv, grad_k)\n",
    "    dx_newton_norm = np.linalg.norm(dx_newton)\n",
    "\n",
    "    if dx_newton_norm <= trust_radius:\n",
    "        return dx_newton\n",
    "\n",
    "    dx_steepest = - np.dot(grad_k, grad_k) / np.dot(grad_k, np.dot(hessian_k,grad_k)) * grad_k\n",
    "    dx_steepest_norm = np.linalg.norm(dx_steepest)\n",
    "\n",
    "    if dx_steepest_norm >= trust_radius:\n",
    "        return trust_radius * dx_steepest / dx_steepest_norm\n",
    "\n",
    "    diff = dx_newton - dx_steepest\n",
    "    dx_steepest_x_diff = np.matmul(dx_steepest.T, diff)\n",
    "    discriminant = dx_steepest_x_diff ** 2 - np.linalg.norm(diff) ** 2 * \\\n",
    "                   (np.linalg.norm(dx_steepest) ** 2 - trust_radius ** 2)\n",
    "    tau = (-dx_steepest_x_diff + np.sqrt(discriminant)) / np.linalg.norm(diff) ** 2\n",
    "    return dx_steepest + tau * (dx_newton - dx_steepest)\n",
    "\n",
    "def trust_region_method(func, grad, hessian, x, tr0=1, tr_limit=2 ** 5, epoch=10, eta=0.1):\n",
    "    x_poly = Poly(coeffs=x)\n",
    "    points = np.zeros((epoch, len(x)))\n",
    "    points[0] = x_poly.coeffs\n",
    "    trust_radius = tr0\n",
    "    for i in range(1, epoch):\n",
    "        grad_k = grad(x_poly)\n",
    "        hessian_k = hessian(x_poly)\n",
    "        pk = dogleg_method_step(grad_k, hessian_k, trust_radius)\n",
    "\n",
    "        moved = Poly(coeffs=x_poly.coeffs + pk)\n",
    "\n",
    "        # Actual reduction.\n",
    "        act_red = sum(func(x_poly)**2) - sum(func(moved)**2)\n",
    "\n",
    "        # Predicted reduction.\n",
    "        # pred_red = -(np.dot(grad_k, pk) + 0.5 * np.dot(pk, np.dot(hessian_k , pk)))\n",
    "        pred_red = -(np.matmul(grad_k.T, pk) + 0.5 * np.matmul(pk.T, np.dot(hessian_k, pk)))\n",
    "        # print(f'{pred_red=}\\n{act_red=}')\n",
    "        # print(f'{trust_radius = }')\n",
    "        # Rho.\n",
    "        if pred_red == 0.0:\n",
    "            rhok = 1e99\n",
    "        else:\n",
    "            rhok = act_red / pred_red\n",
    "\n",
    "        # Calculate the Euclidean norm of pk.\n",
    "        norm_pk = np.linalg.norm(pk)\n",
    "\n",
    "        # Rho is close to zero or negative, therefore the trust region is shrunk.\n",
    "        if rhok < 0.25:\n",
    "            trust_radius = 0.25 * trust_radius\n",
    "        else:\n",
    "            # Rho is close to one and pk has reached the boundary of the trust region, therefore the trust region is expanded.\n",
    "            if rhok > 0.75 and norm_pk == trust_radius:\n",
    "                trust_radius = min(2.0 * trust_radius, tr_limit)\n",
    "            else:\n",
    "                trust_radius = trust_radius\n",
    "\n",
    "        # Choose the position for the next iteration.\n",
    "        if rhok > eta:\n",
    "            x_poly = moved\n",
    "        else:\n",
    "            x_poly = x_poly\n",
    "        points[i] = x_poly.coeffs\n",
    "    return points\n",
    "\n",
    "def regression_pdl(x, y, method, **config):\n",
    "    if config == {}:\n",
    "        config = {\"lr0\": 0.5, \"d\": 0.005, \"epoch\": 1000}\n",
    "    f = lambda x_poly: (y - x_poly(x.T[0]))\n",
    "    jacobi = lambda x_poly: np.array([- x_poly.grad(x[i]) for i in range(len(x))])\n",
    "    hessian = lambda x_poly: np.matmul(jacobi(x_poly).T, jacobi(x_poly))\n",
    "    grad = lambda x_poly: 2*np.matmul(jacobi(x_poly).T, f(x_poly))\n",
    "    bs = method(f, grad, hessian, np.zeros(len(x)), **config)\n",
    "    # print('hm')\n",
    "    # print(f'came close by {f(Poly(coeffs=bs[-1]))}')\n",
    "    return bs[-1]\n",
    "\n",
    "def test_pdl(coeffs, points, **config):\n",
    "    coeffs = np.array(coeffs)\n",
    "    points = np.array(points)\n",
    "    test_poly = Poly(coeffs=coeffs)\n",
    "    res = regression_pdl(np.array(points.reshape(-1,1)),test_poly(points),trust_region_method, **config)\n",
    "    print(f'PDL result for {coeffs} is\\n{res}')\n",
    "    return res\n",
    "\n",
    "\n",
    "test_pdl([1, 0, 1], [1, 0, -1], epoch=40, tr0=1)\n",
    "test_gn([1, 0, 1], [1, 0, -1], lr=1, epoch=1)\n",
    "test_pdl([1, 0, 1], [1, 0, -1, 2, 3], epoch=40, tr0=1, eta=0.05)\n",
    "test_gn([1, 0, 1], [1, 0, -1, 2, 3], lr=1, epoch=1)\n",
    "test_pdl([1, 0, 1, 0, 1, 2], [1, 0, -1, 2, 3, -4], epoch=100, tr0=1, eta=0.1)\n",
    "test_gn([1, 0, 1, 0, 1, 2], [1, 0, -1, 2, 3, -4], lr=1, epoch=1)"
   ],
   "metadata": {
    "collapsed": false,
    "pycharm": {
     "name": "#%%\n"
    }
   }
  },
  {
   "cell_type": "code",
   "execution_count": 37,
   "outputs": [],
   "source": [
    "\n",
    "def draw_2d(x, y, bs):\n",
    "    x = x.reshape(len(x))\n",
    "    ax = plt.figure().add_subplot()\n",
    "    ax.scatter(x, y)\n",
    "    ax.grid(True)\n",
    "    tmin = x.min() - 1\n",
    "    tmax = x.max() + 1\n",
    "    X = np.array([tmin, tmax])\n",
    "    Y = (lambda z: bs[0] + bs[1] * z)(X)\n",
    "    ax.add_line(mlines.Line2D(X, Y, color='green'))\n",
    "\n",
    "def draw_polynom(x_poly, x_points, y_points=None):\n",
    "    if y_points is None:\n",
    "        y_points = x_poly(x_points)\n",
    "    ax = plt.figure().add_subplot()\n",
    "    ax.scatter(x_points, y_points)\n",
    "    ax.grid()\n",
    "    X = np.linspace(x_points.min(), x_points.max(), 100)\n",
    "    ax.plot(X, x_poly(X))"
   ],
   "metadata": {
    "collapsed": false,
    "pycharm": {
     "name": "#%%\n"
    }
   }
  }
 ],
 "metadata": {
  "kernelspec": {
   "display_name": "Python 3",
   "language": "python",
   "name": "python3"
  },
  "language_info": {
   "codemirror_mode": {
    "name": "ipython",
    "version": 2
   },
   "file_extension": ".py",
   "mimetype": "text/x-python",
   "name": "python",
   "nbconvert_exporter": "python",
   "pygments_lexer": "ipython2",
   "version": "2.7.6"
  }
 },
 "nbformat": 4,
 "nbformat_minor": 0
}