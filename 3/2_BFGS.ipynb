{
 "cells": [
  {
   "cell_type": "markdown",
   "metadata": {},
   "source": [
    "### Метод BFGS"
   ]
  },
  {
   "cell_type": "markdown",
   "metadata": {},
   "source": [
    "#### Условие Вольфе\n",
    "Сперва реализуем линейный поиск с условиями Вольфе. Это нам понадобится при  реализации BFGS (он опирается на одномерный поиск, для которого соблюдение условий Вольфа обязательно)."
   ]
  },
  {
   "cell_type": "code",
   "execution_count": 1,
   "metadata": {},
   "outputs": [],
   "source": [
    "from matplotlib import pyplot as plt\n",
    "import numpy as np\n",
    "plt.rcParams[\"figure.figsize\"] = (20,10)"
   ]
  },
  {
   "cell_type": "code",
   "execution_count": 2,
   "metadata": {},
   "outputs": [],
   "source": [
    "def wolfe_search(f, x, p, grad, nabla, max_it = 20):\n",
    "    '''\n",
    "    Поиск с условиями Вольфе\n",
    "    '''\n",
    "    a = 1\n",
    "    c1 = 1e-4 \n",
    "    c2 = 0.9 \n",
    "    fx = f(*x)\n",
    "\n",
    "    x_new = x + a * p \n",
    "    nabla_new = np.array(grad(*x_new))\n",
    "    for _ in range(0, max_it):\n",
    "        if not (f(*x_new) >= fx + (c1*a*np.array(nabla).T @ p) or nabla_new.T @ p <= c2*(np.array(nabla)).T @ p):\n",
    "            break \n",
    "        a *= 0.5\n",
    "        x_new = x + a * p \n",
    "        nabla_new = np.array(grad(*x_new))\n",
    "    return a"
   ]
  },
  {
   "cell_type": "markdown",
   "metadata": {},
   "source": [
    "#### Реализация метода\n",
    "\n",
    "Что нужно иметь в виду: \n",
    "1. в алгоритме не используется и не вычисляется Гессиан как таковой, нам нужно только\n",
    "хорошее приближение.\n",
    "2. по этой причине асимптотика у каждого шага O(n^2), а не O(n^3), это важное преимущество над обычным метоодом Ньютона\n",
    "3. BFGS более общий, чем метод Гаусса-Ньютона."
   ]
  },
  {
   "cell_type": "markdown",
   "metadata": {},
   "source": [
    "$$ H_{k+1}^{-1} = \\left(I - \\frac{s_k y_k^T}{y_k^T s_k}\\right) H_k^{-1} \\left(I - \\frac{y_k s_k^T}{y_k^T s_k}\\right) + \\frac{s_k s_k^T}{y_k^T s_k} $$"
   ]
  },
  {
   "cell_type": "code",
   "execution_count": 3,
   "metadata": {},
   "outputs": [],
   "source": [
    "def BFGS(f_batch, batch_size, x0, grad, epochs = 100):\n",
    "    '''\n",
    "    Реализация BFGS\n",
    "    Параметры\n",
    "    f:      целевая функция \n",
    "    x0:     начальная гипотеза\n",
    "    epochs: максимальное число итераций \n",
    "    вывод: \n",
    "    x:      найденный минимум \n",
    "    '''\n",
    "    f = f_batch(batch_size)\n",
    "    \n",
    "    d = len(x0) # наша размерность \n",
    "    # print(f'{x0=}')\n",
    "    nabla = np.array(grad(*x0)) # градиент в начальной точке\n",
    "    I = np.eye(d) # единичная матрица\n",
    "\n",
    "    H = np.copy(I) # начальный обратный гессиан\n",
    "    x = np.copy(x0)\n",
    "\n",
    "    points = []\n",
    "    for i in range(1, epochs):\n",
    "        if np.linalg.norm(nabla) < 1e-5:\n",
    "            break \n",
    "        print(i)\n",
    "\n",
    "        p = -H @ nabla # направление поиска\n",
    "        a = wolfe_search(f, x, p, grad, nabla) # поиск с условиями Вольфе \n",
    "        s = np.array([a * p]) # величина шага (dx)\n",
    "        x_new = x + a * p \n",
    "        nabla_new = np.array(grad(*x_new))\n",
    "        y = np.array([nabla_new - nabla]) # d(nabla f)\n",
    "\n",
    "        y, s = np.reshape(y,(d,1)), np.reshape(s,(d,1))\n",
    "        y_trans, s_trans = y.transpose(), s.transpose()\n",
    "        \n",
    "        r = 1/(y_trans @ s + 1e-20)\n",
    "\n",
    "        # это можно вычислить более эффективно без временных матриц        \n",
    "        li = I-(r*(s @ (y_trans)))\n",
    "        ri = I-(r*(y @ (s_trans)))\n",
    "        h_inter = li @ H @ ri\n",
    "        H = h_inter + (r*(s @ s_trans)) # обновление (обратного) гессиана\n",
    "        \n",
    "        nabla = np.copy(nabla_new)\n",
    "        x = np.copy(x_new)\n",
    "        \n",
    "        points.append(x)\n",
    "    return points"
   ]
  },
  {
   "cell_type": "code",
   "execution_count": 4,
   "metadata": {},
   "outputs": [],
   "source": [
    "def grad_batch(f_batch_size, batch_size):\n",
    "    def grad_help(*args):\n",
    "        h = 1e-10\n",
    "        dim = len(args)\n",
    "        \n",
    "        f = f_batch_size(batch_size)\n",
    "        return [(\n",
    "                        f(*[args[j] + (h if j == i else 0) for j in range(dim)])\n",
    "                        -\n",
    "                        f(*[args[j] - (h if j == i else 0) for j in range(dim)])\n",
    "                ) / (2 * h)\n",
    "                for i in range(dim)]\n",
    "    return grad_help\n"
   ]
  },
  {
   "cell_type": "code",
   "execution_count": 5,
   "metadata": {},
   "outputs": [],
   "source": [
    "def regression(x, y, method, batch_size=3, **config):\n",
    "    if config == {}:\n",
    "        config = {\"lr0\": 0.5, \"d\": 0.005, \"epoch\": 1000}\n",
    "    x_mat = np.hstack((np.ones((x.shape[0], 1)), x))\n",
    "    n = x_mat.shape[1] # the dimenstion \n",
    "    \n",
    "\n",
    "    batch_choice = lambda batch_size: list(set(np.random.choice(np.arange(x.shape[0]), batch_size, replace=False)))    \n",
    "    f_batch = lambda batch_size: \\\n",
    "                       lambda *b, batch=batch_choice(batch_size): \\\n",
    "                           np.linalg.norm(y[batch] - x_mat[batch].dot(b))\n",
    "    \n",
    "    bs = np.array(method(f_batch, batch_size, np.full(n, 1), grad_batch(f_batch, batch_size)))\n",
    "    \n",
    "    f = f_batch(x.shape[0]) # the entire function \n",
    "    print(f'came close by {f(*bs[-1])}')\n",
    "    ax = plt.figure().add_subplot()\n",
    "    X = np.arange(len(bs))\n",
    "    ax.plot(X, np.vectorize(f)(*bs.T))\n",
    "    ax.grid()\n",
    "    return bs"
   ]
  },
  {
   "cell_type": "code",
   "execution_count": 6,
   "metadata": {},
   "outputs": [],
   "source": [
    "rand = lambda n: (np.random.rand(n)*2)-1\n",
    "\n",
    "def random_perfect_line(n, k, k_limit, ms_limit, debug=False):\n",
    "    m = rand(n) * ms_limit\n",
    "    s = rand(n) * ms_limit\n",
    "    ks = rand(k) * k_limit\n",
    "    xy = np.array([m + s * k for k in ks])\n",
    "    x = xy[:, :-1]\n",
    "    y = xy[:, -1]\n",
    "    return x, y"
   ]
  },
  {
   "cell_type": "code",
   "execution_count": 7,
   "metadata": {},
   "outputs": [],
   "source": [
    "line = random_perfect_line(25, 100, 100, 100)"
   ]
  },
  {
   "cell_type": "code",
   "execution_count": 8,
   "metadata": {},
   "outputs": [
    {
     "name": "stdout",
     "output_type": "stream",
     "text": [
      "1\n",
      "2\n",
      "3\n",
      "4\n",
      "5\n",
      "6\n",
      "7\n",
      "8\n",
      "9\n",
      "10\n",
      "11\n",
      "12\n",
      "13\n",
      "14\n",
      "15\n",
      "16\n",
      "17\n",
      "18\n",
      "19\n",
      "20\n",
      "21\n",
      "22\n",
      "23\n",
      "24\n",
      "25\n",
      "26\n",
      "27\n",
      "28\n",
      "29\n",
      "30\n",
      "31\n",
      "32\n",
      "33\n",
      "34\n",
      "35\n",
      "36\n",
      "37\n",
      "38\n",
      "39\n",
      "40\n",
      "41\n",
      "42\n",
      "43\n",
      "44\n",
      "45\n",
      "46\n",
      "47\n",
      "48\n",
      "49\n",
      "50\n",
      "51\n",
      "52\n",
      "53\n",
      "54\n",
      "55\n",
      "56\n",
      "57\n",
      "58\n",
      "59\n",
      "60\n",
      "61\n",
      "62\n",
      "63\n",
      "64\n",
      "65\n",
      "66\n",
      "67\n",
      "68\n",
      "69\n",
      "70\n",
      "71\n",
      "72\n",
      "73\n",
      "74\n",
      "75\n",
      "76\n",
      "77\n",
      "78\n",
      "79\n",
      "80\n",
      "81\n",
      "82\n",
      "83\n",
      "84\n",
      "85\n",
      "86\n",
      "87\n",
      "88\n",
      "89\n",
      "90\n",
      "91\n",
      "92\n",
      "93\n",
      "94\n",
      "95\n",
      "96\n",
      "97\n",
      "98\n",
      "99\n",
      "came close by 1078.615313145122\n"
     ]
    },
    {
     "data": {
      "text/plain": [
       "array([[ 9.99900357e-01,  1.02628814e+00,  8.58957822e-01, ...,\n",
       "         8.84423840e-01,  1.06252776e+00,  1.11790346e+00],\n",
       "       [ 9.83581100e-01,  1.90459070e+00,  7.81669531e-01, ...,\n",
       "        -4.79080614e-01,  2.68797254e+00, -2.91717060e-01],\n",
       "       [ 9.99459939e-01,  1.14110474e+00,  8.70066217e-01, ...,\n",
       "         7.18605482e-01,  1.27175413e+00,  9.06432094e-01],\n",
       "       ...,\n",
       "       [-7.16207118e+02,  5.69615007e+02, -8.56645067e+02, ...,\n",
       "         9.07264998e+02,  6.91222411e+01, -4.09511648e+02],\n",
       "       [-7.16207116e+02,  5.69615008e+02, -8.56645064e+02, ...,\n",
       "         9.07265000e+02,  6.91222404e+01, -4.09511645e+02],\n",
       "       [-7.16207116e+02,  5.69615008e+02, -8.56645064e+02, ...,\n",
       "         9.07265000e+02,  6.91222404e+01, -4.09511645e+02]])"
      ]
     },
     "execution_count": 8,
     "metadata": {},
     "output_type": "execute_result"
    },
    {
     "data": {
      "image/png": "[encoded data removed]",
      "text/plain": [
       "<Figure size 1440x720 with 1 Axes>"
      ]
     },
     "metadata": {
      "needs_background": "light"
     },
     "output_type": "display_data"
    }
   ],
   "source": [
    "regression(*line, BFGS)"
   ]
  },
  {
   "cell_type": "code",
   "execution_count": 359,
   "metadata": {},
   "outputs": [],
   "source": [
    "f = lambda size : lambda x,y : (x + 2*y - 7)**2 + (2*x + y - 5)**2"
   ]
  },
  {
   "cell_type": "code",
   "execution_count": 360,
   "metadata": {},
   "outputs": [],
   "source": [
    "grad = lambda x, y: [2*(x+2*y - 7)+2*2*(2*x + y -5), 2*2*(x+2*y-7) + 2*(2*x + y - 5)]"
   ]
  },
  {
   "cell_type": "code",
   "execution_count": 364,
   "metadata": {},
   "outputs": [
    {
     "name": "stdout",
     "output_type": "stream",
     "text": [
      "1\n",
      "2\n",
      "3\n",
      "4\n",
      "5\n",
      "6\n",
      "7\n"
     ]
    }
   ],
   "source": [
    "points = BFGS(f, 0, [5,5], grad, 10)"
   ]
  },
  {
   "cell_type": "code",
   "execution_count": 369,
   "metadata": {},
   "outputs": [],
   "source": [
    "# Обобщенная функция для вычисления градиента.\n",
    "def grad(f): \n",
    "    def grad_help(*args):\n",
    "        h = 1e-5\n",
    "        dim = len(args)\n",
    "        return [(f(*[args[j] + (h if j == i else 0) for j in range(dim)]) -\n",
    "                f(*[args[j] - (h if j == i else 0) for j in range(dim)]))/(2*h)\n",
    "                for i in range(dim)]\n",
    "    return grad_help\n",
    "\n",
    "# Градиентный спуск\n",
    "# Число вычислений grad f  = epoch - 1\n",
    "# Число вычислений f = 0\n",
    "def gradient_descent(f, lr0, d, epoch, x, counters = [0,0]):\n",
    "    points = np.zeros((epoch, 2))\n",
    "    points[0] = x\n",
    "    for i in range(1, epoch):\n",
    "        x = x - lr0*np.exp(-d*i) * np.array(grad(f)(*x))\n",
    "        points[i] = x  \n",
    "    \n",
    "    counters[1] = epoch -1\n",
    "    return points\n",
    "\n",
    "# Градиентный спуск с постоянным шагом.\n",
    "def gradient_descent_const(f, lr, epoch, x):\n",
    "    return gradient_descent(f, lr, 0, epoch, x)\n"
   ]
  },
  {
   "cell_type": "code",
   "execution_count": 368,
   "metadata": {},
   "outputs": [
    {
     "data": {
      "text/plain": [
       "[[1.5, 1.75],\n",
       " [0.11274587989682461, 3.8945867987817144],\n",
       " [1.1095824862155017, 2.9652211626249576],\n",
       " [0.995946068846666, 2.992213283230686],\n",
       " [0.9996011046261949, 3.000574423203834],\n",
       " [1.0000167135627767, 2.9999846804043084],\n",
       " [0.9999999175633317, 3.000000018004383]]"
      ]
     },
     "execution_count": 368,
     "metadata": {},
     "output_type": "execute_result"
    }
   ],
   "source": [
    "points"
   ]
  }
 ],
 "metadata": {
  "interpreter": {
   "hash": "48a429b68bfe294dfceff3aeb8f85c80ee1547a69b0bf12125e2832c4e1159cc"
  },
  "kernelspec": {
   "display_name": "Python 3.10.4 64-bit (windows store)",
   "language": "python",
   "name": "python3"
  },
  "language_info": {
   "codemirror_mode": {
    "name": "ipython",
    "version": 3
   },
   "file_extension": ".py",
   "mimetype": "text/x-python",
   "name": "python",
   "nbconvert_exporter": "python",
   "pygments_lexer": "ipython3",
   "version": "3.10.5"
  },
  "orig_nbformat": 4
 },
 "nbformat": 4,
 "nbformat_minor": 2
}