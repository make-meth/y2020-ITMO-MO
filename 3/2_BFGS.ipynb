{
 "cells": [
  {
   "cell_type": "markdown",
   "metadata": {},
   "source": [
    "### Метод BFGS"
   ]
  },
  {
   "cell_type": "markdown",
   "metadata": {},
   "source": [
    "#### Условие Вольфе\n",
    "Сперва реализуем линейный поиск с условиями Вольфе. Это нам понадобится при  реализации BFGS (он опирается на одномерный поиск, для которого соблюдение условий Вольфа обязательно)."
   ]
  },
  {
   "cell_type": "code",
   "execution_count": 1,
   "metadata": {},
   "outputs": [],
   "source": [
    "from matplotlib import pyplot as plt\n",
    "import numpy as np\n",
    "plt.rcParams[\"figure.figsize\"] = (20,10)"
   ]
  },
  {
   "cell_type": "code",
   "execution_count": null,
   "metadata": {},
   "outputs": [],
   "source": [
    "def wolfe_search(f, x, p, grad, nabla):\n",
    "    '''\n",
    "    Поиск с условиями Вольфе\n",
    "    '''\n",
    "    a = 1\n",
    "    c1 = 1e-4 \n",
    "    c2 = 0.9 \n",
    "    fx = f(x)\n",
    "    x_new = x + a * p \n",
    "    nabla_new = grad(f, x_new)\n",
    "    while f(x_new) >= fx + (c1*a*nabla.T @ p) or nabla_new.T @ p <= c2*nabla.T @ p : \n",
    "        a *= 0.5\n",
    "        x_new = x + a * p \n",
    "        nabla_new = grad(f, x_new)\n",
    "    return a"
   ]
  },
  {
   "cell_type": "markdown",
   "metadata": {},
   "source": [
    "#### Реализация метода\n",
    "\n",
    "Что нужно иметь в виду: \n",
    "1. в алгоритме не используется и не вычисляется Гессиан как таковой, нам нужно только\n",
    "хорошее приближение.\n",
    "2. по этой причине асимптотика у каждого шага O(n^2), а не O(n^3), это важное преимущество над обычным метоодом Ньютона\n",
    "3. BFGS более общий, чем метод Гаусса-Ньютона."
   ]
  },
  {
   "cell_type": "code",
   "execution_count": null,
   "metadata": {},
   "outputs": [],
   "source": [
    "def BFGS(f,x0, epochs, grad):\n",
    "    '''\n",
    "    Реализация BFGS\n",
    "    Параметры\n",
    "    f:      целевая функция \n",
    "    x0:     начальная гипотеза\n",
    "    max_it: максимальное число итераций \n",
    "    plot:   if the problem is 2 dimensional, returns \n",
    "            a trajectory plot of the optimisation scheme.\n",
    "    OUTPUTS: \n",
    "    x:      the optimal solution of the function f \n",
    "    '''\n",
    "    d = len(x0) # наша размерность \n",
    "    nabla = grad(f,x0) # градиент в начальной точке\n",
    "    I = np.eye(d) # единичная матрица\n",
    "\n",
    "    H = I.copy() # начальный обратный гессиан\n",
    "    x = x0[:]\n",
    "    it = 2 \n",
    "\n",
    "    while np.linalg.norm(nabla) > 1e-5 and (it < epochs): # while gradient is positive\n",
    "        it += 1\n",
    "        p = -H @ nabla # направление поиска\n",
    "        a = wolfe_search(f, x, p, nabla) # поиск с условиями Вольфе \n",
    "        s = np.array([a * p]) # величина шага\n",
    "        x_new = x + a * p \n",
    "        nabla_new = grad(f, x_new)\n",
    "        y = np.array([nabla_new - nabla]) \n",
    "        y, s = np.reshape(y,(d,1)), np.reshape(s,(d,1))\n",
    "        y_trans, s_trans = y.transpose(), s.transpose()\n",
    "        \n",
    "        r = 1/(y_trans @ s)\n",
    "\n",
    "        \n",
    "        li = (I-(r*(s @ (y_trans))))\n",
    "        ri = (I-(r*(y @ (s_trans))))\n",
    "        hess_inter = li @ H @ ri\n",
    "        H = hess_inter + (r*(s @ (s_trans))) # обновление (обратного) гессиана\n",
    "        \n",
    "        nabla = nabla_new.copy()\n",
    "        x = x_new.copy()\n",
    "        \n",
    "        points = np.append(points,[x], axis=0) # \n",
    "    return points\n"
   ]
  },
  {
   "cell_type": "code",
   "execution_count": null,
   "metadata": {},
   "outputs": [],
   "source": []
  }
 ],
 "metadata": {
  "interpreter": {
   "hash": "48a429b68bfe294dfceff3aeb8f85c80ee1547a69b0bf12125e2832c4e1159cc"
  },
  "kernelspec": {
   "display_name": "Python 3.10.4 64-bit (windows store)",
   "language": "python",
   "name": "python3"
  },
  "language_info": {
   "codemirror_mode": {
    "name": "ipython",
    "version": 3
   },
   "file_extension": ".py",
   "mimetype": "text/x-python",
   "name": "python",
   "nbconvert_exporter": "python",
   "pygments_lexer": "ipython3",
   "version": "3.10.5"
  },
  "orig_nbformat": 4
 },
 "nbformat": 4,
 "nbformat_minor": 2
}
