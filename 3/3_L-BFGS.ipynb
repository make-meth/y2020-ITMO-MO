{
 "cells": [
  {
   "cell_type": "markdown",
   "metadata": {},
   "source": [
    "### Реализация и исследование L-BFGS\n",
    "\n",
    "L-BFGS (L - limited mempry) --- модификация метода BFGS с ограниченной памятью. \n",
    "Обычный BFGS хранит приближение к обратному гессиану в виде квадратной неразряженной матрицы и это может потреблять очень большой обьём памяти в случаях, когда число переменных огромное. В таких случаях может быть использован LBFGS.\n",
    "\n",
    "Идея в том, что вместо целой матрицы хранится ограниченная (числом m) история изменений позиции $\\Delta x$ и градиента $\\Delta \\nabla f(x)$, на основе которых на каждом шагу приближается обратный к гессиану и вычиялется направление поиска. Часто это число m < 20"
   ]
  },
  {
   "cell_type": "code",
   "execution_count": 172,
   "metadata": {},
   "outputs": [],
   "source": [
    "from matplotlib import pyplot as plt\n",
    "import numpy as np\n",
    "import random as rand\n",
    "from collections import deque\n",
    "plt.rcParams[\"figure.figsize\"] = (20,10)"
   ]
  },
  {
   "cell_type": "code",
   "execution_count": 173,
   "metadata": {},
   "outputs": [],
   "source": [
    "class History:\n",
    "    s = None # dx\n",
    "    y = None\n",
    "    rho = None\n",
    "\n",
    "    def __init__(self, m = 5):\n",
    "        self.s = deque([], m)\n",
    "        self.y = deque([], m)\n",
    "        self.rho = deque([], m)\n",
    "\n",
    "    def update(self, dx, dg):\n",
    "        self.s.appendleft(dx)\n",
    "        self.y.appendleft(dg)\n",
    "        self.rho.appendleft(1. / (np.dot(dg, dx) + 1e-30))"
   ]
  },
  {
   "cell_type": "code",
   "execution_count": 174,
   "metadata": {},
   "outputs": [],
   "source": [
    "def wolfe_search(f, x, p, grad, nabla, max_it = 20):\n",
    "    '''\n",
    "    Поиск с условиями Вольфе\n",
    "    '''\n",
    "    a = 1\n",
    "    c1 = 1e-4 \n",
    "    c2 = 0.9 \n",
    "    fx = f(*x)\n",
    "\n",
    "    x_new = x + a * p \n",
    "    nabla_new = np.array(grad(*x_new))\n",
    "    for _ in range(0, max_it):\n",
    "        if not (f(*x_new) >= fx + (c1*a*np.array(nabla).T @ p) or nabla_new.T @ p <= c2*(np.array(nabla)).T @ p):\n",
    "            break \n",
    "        a *= 0.5\n",
    "        x_new = x + a * p \n",
    "        nabla_new = np.array(grad(*x_new))\n",
    "    return a"
   ]
  },
  {
   "cell_type": "code",
   "execution_count": 175,
   "metadata": {},
   "outputs": [],
   "source": [
    "def get_direction(grad, history, h_init):\n",
    "    q = np.copy(grad)\n",
    "    m = len(history.rho)\n",
    "    alpha = np.zeros(m)\n",
    "\n",
    "    for i in range(m - 1, -1, -1):\n",
    "        alpha[i] = history.rho[i] * np.dot(history.s[i], q)\n",
    "        q = q - alpha[i] * history.y[i]\n",
    "\n",
    "    if m == 0:\n",
    "        H_init = h_init\n",
    "        if isinstance(h_init, np.ndarray):\n",
    "            r = np.matmul(H_init, q.reshape(-1, 1)).T[0]\n",
    "        else:\n",
    "            r = H_init * q\n",
    "    else:\n",
    "        H_init = np.dot(history.s[-1], history.y[-1]) / (np.dot(history.y[-1], history.y[-1]) + 1e-30)\n",
    "        r = H_init * q\n",
    "\n",
    "    for i in range(m):\n",
    "        r = r + history.s[i] * (alpha[i] - history.rho[i] * np.dot(history.y[i], r))\n",
    "\n",
    "    return -r"
   ]
  },
  {
   "cell_type": "code",
   "execution_count": 176,
   "metadata": {},
   "outputs": [],
   "source": [
    "def lbfgs(f_batch, batch_size, x0, grad, m = 5, eps = 1e-9, epochs=100, h_init=1, **config):\n",
    "    x = np.copy(x0)\n",
    "    points_history = [x]\n",
    "    g = np.array(grad(*x))\n",
    "    history = History(m)\n",
    "\n",
    "    f = f_batch(batch_size)\n",
    "\n",
    "    for epoch in range(0, epochs):\n",
    "        print(epoch)\n",
    "        if not (np.linalg.norm(g) > eps and epoch <= epochs):\n",
    "            break\n",
    "\n",
    "        d = get_direction(g, history, h_init=h_init)\n",
    "        a = wolfe_search(f, x, d, grad, grad(*x)) # поиск с условиями Вольфе \n",
    "        # s = np.array([a * p]) # величина шага (dx)\n",
    "        x_new = np.array(x + a * d)\n",
    "        \n",
    "        g_new = np.array(grad(*x_new))\n",
    "        history.update(x_new - x, g_new - g)\n",
    "        x = x_new\n",
    "        g = g_new\n",
    "        points_history.append(x_new)\n",
    "        epoch += 1\n",
    "    return points_history"
   ]
  },
  {
   "cell_type": "markdown",
   "metadata": {},
   "source": [
    "### Тест\n",
    "\n",
    "Предлагается тест LBFGS на задаче линейной регрессии с очень большой размерностью."
   ]
  },
  {
   "cell_type": "code",
   "execution_count": 177,
   "metadata": {},
   "outputs": [],
   "source": [
    "rand = lambda n: (np.random.rand(n)*2)-1\n",
    "\n",
    "def random_perfect_line(n, k, k_limit, ms_limit, debug=False):\n",
    "    m = rand(n) * ms_limit\n",
    "    s = rand(n) * ms_limit\n",
    "    ks = rand(k) * k_limit\n",
    "    xy = np.array([m + s * k for k in ks])\n",
    "    x = xy[:, :-1]\n",
    "    y = xy[:, -1]\n",
    "    return x, y"
   ]
  },
  {
   "cell_type": "code",
   "execution_count": 178,
   "metadata": {},
   "outputs": [],
   "source": [
    "def grad_batch(f_batch_size, batch_size):\n",
    "    def grad_help(*args):\n",
    "        h = 1e-10\n",
    "        dim = len(args)\n",
    "        f = f_batch_size(batch_size)\n",
    "        return [(\n",
    "                        f(*[args[j] + (h if j == i else 0) for j in range(dim)])\n",
    "                        -\n",
    "                        f(*[args[j] - (h if j == i else 0) for j in range(dim)])\n",
    "                ) / (2 * h)\n",
    "                for i in range(dim)]\n",
    "    return grad_help"
   ]
  },
  {
   "cell_type": "code",
   "execution_count": 179,
   "metadata": {},
   "outputs": [],
   "source": [
    "def regression(x, y, method, batch_size=10, **config):\n",
    "    if config == {}:\n",
    "        config = {\"lr0\": 0.5, \"d\": 0.005, \"epoch\": 1000}\n",
    "    x_mat = np.hstack((np.ones((x.shape[0], 1)), x))\n",
    "    n = x_mat.shape[1] # the dimenstion \n",
    "    print(f'{n=}')\n",
    "\n",
    "    batch_choice = lambda batch_size: list(set(np.random.choice(np.arange(x.shape[0]), batch_size, replace=False)))    \n",
    "    f_batch = lambda batch_size: \\\n",
    "                       lambda *b, batch=batch_choice(batch_size): \\\n",
    "                           np.linalg.norm(y[batch] - x_mat[batch].dot(b))\n",
    "    \n",
    "    bs = np.array(method(f_batch, batch_size, np.full(n, 1), grad_batch(f_batch, batch_size)))\n",
    "    \n",
    "    f = f_batch(x.shape[0]) # the entire function \n",
    "    print(f'came close by {f(*bs[-1])}')\n",
    "    ax = plt.figure().add_subplot()\n",
    "    X = np.arange(len(bs))\n",
    "    ax.plot(X, np.array([f(*x.T) for x in bs]))\n",
    "    ax.grid()\n",
    "    return bs"
   ]
  },
  {
   "cell_type": "code",
   "execution_count": 180,
   "metadata": {},
   "outputs": [],
   "source": [
    "line = random_perfect_line(25, 100, 100, 100)"
   ]
  },
  {
   "cell_type": "code",
   "execution_count": 181,
   "metadata": {},
   "outputs": [
    {
     "name": "stdout",
     "output_type": "stream",
     "text": [
      "n=100\n",
      "0\n",
      "1\n",
      "2\n",
      "3\n",
      "4\n",
      "5\n",
      "6\n",
      "7\n",
      "8\n",
      "9\n",
      "10\n",
      "11\n",
      "12\n",
      "13\n",
      "14\n",
      "15\n",
      "16\n",
      "17\n",
      "18\n",
      "19\n",
      "20\n",
      "21\n",
      "22\n",
      "23\n",
      "24\n",
      "25\n",
      "26\n",
      "27\n",
      "28\n",
      "29\n",
      "30\n",
      "31\n",
      "32\n",
      "33\n",
      "34\n",
      "35\n",
      "36\n",
      "37\n",
      "38\n",
      "39\n",
      "40\n",
      "41\n",
      "42\n",
      "43\n",
      "44\n",
      "45\n",
      "46\n",
      "47\n",
      "48\n",
      "49\n",
      "50\n",
      "51\n",
      "52\n",
      "53\n",
      "54\n",
      "55\n",
      "56\n",
      "57\n",
      "58\n",
      "59\n",
      "60\n",
      "61\n",
      "62\n",
      "63\n",
      "64\n",
      "65\n",
      "66\n",
      "67\n",
      "68\n",
      "69\n",
      "70\n",
      "71\n",
      "72\n",
      "73\n",
      "74\n",
      "75\n",
      "76\n",
      "77\n",
      "78\n",
      "79\n",
      "80\n",
      "81\n",
      "82\n",
      "83\n",
      "84\n",
      "85\n",
      "86\n",
      "87\n",
      "88\n",
      "89\n",
      "90\n",
      "91\n",
      "92\n",
      "93\n",
      "94\n",
      "95\n",
      "96\n",
      "97\n",
      "98\n",
      "99\n",
      "came close by 1.6790056703531541e-09\n"
     ]
    },
    {
     "data": {
      "text/plain": [
       "array([[1.        , 1.        , 1.        , ..., 1.        , 1.        ,\n",
       "        1.        ],\n",
       "       [1.        , 0.85400345, 0.84324484, ..., 0.77872756, 1.17945756,\n",
       "        0.85731747],\n",
       "       [0.99999917, 0.92697128, 0.92167111, ..., 0.88926542, 1.08978645,\n",
       "        0.928673  ],\n",
       "       ...,\n",
       "       [1.00436948, 0.88161842, 1.16300631, ..., 0.61184902, 1.21242693,\n",
       "        1.0260268 ],\n",
       "       [1.00436948, 0.88161842, 1.16300631, ..., 0.61184902, 1.21242693,\n",
       "        1.0260268 ],\n",
       "       [1.00436948, 0.88161842, 1.16300631, ..., 0.61184902, 1.21242693,\n",
       "        1.0260268 ]])"
      ]
     },
     "execution_count": 181,
     "metadata": {},
     "output_type": "execute_result"
    },
    {
     "data": {
      "image/png": "[encoded data removed]",
      "text/plain": [
       "<Figure size 1440x720 with 1 Axes>"
      ]
     },
     "metadata": {
      "needs_background": "light"
     },
     "output_type": "display_data"
    }
   ],
   "source": [
    "regression(*line, lbfgs, batch_size = 100)"
   ]
  }
 ],
 "metadata": {
  "kernelspec": {
   "display_name": "Python 3.10.5 64-bit (windows store)",
   "language": "python",
   "name": "python3"
  },
  "language_info": {
   "codemirror_mode": {
    "name": "ipython",
    "version": 3
   },
   "file_extension": ".py",
   "mimetype": "text/x-python",
   "name": "python",
   "nbconvert_exporter": "python",
   "pygments_lexer": "ipython3",
   "version": "3.10.5"
  },
  "orig_nbformat": 4,
  "vscode": {
   "interpreter": {
    "hash": "48a429b68bfe294dfceff3aeb8f85c80ee1547a69b0bf12125e2832c4e1159cc"
   }
  }
 },
 "nbformat": 4,
 "nbformat_minor": 2
}
