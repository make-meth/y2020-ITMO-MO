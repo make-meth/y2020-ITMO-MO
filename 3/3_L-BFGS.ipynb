{
 "cells": [
  {
   "cell_type": "markdown",
   "metadata": {},
   "source": [
    "### Реализация и исследование L-BFGS\n",
    "\n",
    "L-BFGS (L - limited mempry) --- модификация метода BFGS с ограниченной памятью. \n",
    "Обычный BFGS хранит приближение к обратному гессиану в виде квадратной неразряженной матрицы и это может потреблять очень большой обьём памяти в случаях, когда число переменных огромное. В таких случаях может быть использован LBFGS.\n",
    "\n",
    "Идея в том, что вместо целой матрицы хранится ограниченная (числом m) история изменений позиции $\\Delta x$ и градиента $\\Delta \\nabla f(x)$, на основе которых на каждом шагу приближается обратный к гессиану и вычиялется направление поиска. Часто это число m < 20"
   ]
  },
  {
   "cell_type": "code",
   "execution_count": 79,
   "metadata": {},
   "outputs": [],
   "source": [
    "from matplotlib import pyplot as plt\n",
    "import numpy as np\n",
    "import random as rand\n",
    "from collections import deque\n",
    "# import bfgs_utils as ut\n",
    "plt.rcParams[\"figure.figsize\"] = (20,10)"
   ]
  },
  {
   "cell_type": "code",
   "execution_count": 80,
   "metadata": {},
   "outputs": [],
   "source": [
    "class History:\n",
    "    s = None # dx\n",
    "    y = None\n",
    "    rho = None\n",
    "\n",
    "    def __init__(self, m = 5):\n",
    "        self.s = deque([], m)\n",
    "        self.y = deque([], m)\n",
    "        self.rho = deque([], m)\n",
    "\n",
    "    def update(dx, dg):\n",
    "        self.s.add(dx)\n",
    "        self.y.add(dg)\n",
    "        self.rho.add(1. / (np.dot(dg, dx) + 1e-30))"
   ]
  },
  {
   "cell_type": "code",
   "execution_count": null,
   "metadata": {},
   "outputs": [],
   "source": [
    "def wolfe_search(f, x, p, grad, nabla):\n",
    "    '''\n",
    "    Поиск с условиями Вольфе\n",
    "    '''\n",
    "    a = 1\n",
    "    c1 = 1e-4 \n",
    "    c2 = 0.9 \n",
    "    fx = f(x)\n",
    "    x_new = x + a * p \n",
    "    nabla_new = grad(f, x_new)\n",
    "    while f(x_new) >= fx + (c1*a*nabla.T @ p) or nabla_new.T @ p <= c2*nabla.T @ p : \n",
    "        a *= 0.5\n",
    "        x_new = x + a * p \n",
    "        nabla_new = grad(f, x_new)\n",
    "    return a"
   ]
  },
  {
   "cell_type": "code",
   "execution_count": 81,
   "metadata": {},
   "outputs": [],
   "source": [
    "def get_direction(grad, history, h_init):\n",
    "    q = np.copy(grad)\n",
    "    m = len(history.rho)\n",
    "    alpha = np.zeros(m)\n",
    "\n",
    "    for i in range(m - 1, -1, -1):\n",
    "        alpha[i] = history.rho[i] * np.dot(history.s[i], q)\n",
    "        q = q - alpha[i] * history.y[i]\n",
    "\n",
    "    if m == 0:\n",
    "        H_init = h_init\n",
    "        if isinstance(h_init, np.ndarray):\n",
    "            r = np.matmul(H_init, q.reshape(-1, 1)).T[0]\n",
    "        else:\n",
    "            r = H_init * q\n",
    "    else:\n",
    "        H_init = np.dot(history.s[-1], history.y[-1]) / (np.dot(history.y[-1], history.y[-1]) + 1e-30)\n",
    "        r = H_init * q\n",
    "\n",
    "    for i in range(m):\n",
    "        r = r + history.s[i] * (alpha[i] - history.rho[i] * np.dot(history.y[i], r))\n",
    "\n",
    "    return -r"
   ]
  },
  {
   "cell_type": "code",
   "execution_count": 89,
   "metadata": {},
   "outputs": [],
   "source": [
    "def lbfgs(f, x0, grad, m = 5, eps = 1e-9, epochs=100, h_init=1, **config):\n",
    "    x = np.copy(x0)\n",
    "    points_history = [x]\n",
    "    g = np.array(grad(x))\n",
    "    history = History(m)\n",
    "\n",
    "    for epoch in 0..epochs+1:\n",
    "        if not (np.linalg.norm(g) > eps and epoch <= epochs):\n",
    "            break\n",
    "\n",
    "        d = get_direction(g, history, h_init=h_init)\n",
    "        x_new = wolfe_search(f, x, grad)\n",
    "        g_new = grad(x_new)\n",
    "        history.update(x_new - x, g_new - g)\n",
    "        x = x_new\n",
    "        g = g_new\n",
    "        points_history.append(x_new)\n",
    "        epoch += 1\n",
    "    return points_history"
   ]
  },
  {
   "cell_type": "markdown",
   "metadata": {},
   "source": [
    "### Тест\n",
    "\n",
    "Предлагается тест LBFGS на задаче линейной регрессии с очень большой размерностью."
   ]
  },
  {
   "cell_type": "code",
   "execution_count": 83,
   "metadata": {},
   "outputs": [],
   "source": [
    "rand = lambda n: (np.random.rand(n)*2)-1\n",
    "\n",
    "def random_perfect_line(n, k, k_limit, ms_limit, debug=False):\n",
    "    m = rand(n) * ms_limit\n",
    "    s = rand(n) * ms_limit\n",
    "    ks = rand(k) * k_limit\n",
    "    xy = np.array([m + s * k for k in ks])\n",
    "    x = xy[:, :-1]\n",
    "    y = xy[:, -1]\n",
    "    # if debug:\n",
    "    #     print(f'{m=}\\n{s=}\\n{x=}\\n{y=}')\n",
    "    return x, y"
   ]
  },
  {
   "cell_type": "code",
   "execution_count": 84,
   "metadata": {},
   "outputs": [],
   "source": [
    "def regression(x, y, method, batch_size=10, **config):\n",
    "    if config == {}:\n",
    "        config = {\"lr0\": 0.5, \"d\": 0.005, \"epoch\": 1000}\n",
    "    x_mat = np.hstack((np.ones((x.shape[0], 1)), x))\n",
    "    k = x_mat.shape[1]\n",
    "    batch_choice = lambda batch_size: list(set(np.random.choice(np.arange(x.shape[0]), batch_size, replace=False)))\n",
    "    f_batch_size = lambda batch_size: \\\n",
    "                       lambda *b, batch=batch_choice(batch_size): \\\n",
    "                           np.linalg.norm((y[batch] - x_mat[batch].dot(b)))\n",
    "    bs = method(f_batch_size(batch_size), np.full(k, 1), **config)\n",
    "    f = f_batch_size(x.shape[0])\n",
    "    print(f'came close by {f(*bs[-1])}')\n",
    "    # ax = plt.figure().add_subplot()\n",
    "    # X = np.arange(len(bs))\n",
    "    # ax.plot(X, np.vectorize(f)(*bs.T))\n",
    "    # ax.grid()\n",
    "    return bs"
   ]
  },
  {
   "cell_type": "code",
   "execution_count": 85,
   "metadata": {},
   "outputs": [],
   "source": [
    "line = random_perfect_line(10, 100, 10, 10)"
   ]
  },
  {
   "cell_type": "code",
   "execution_count": 86,
   "metadata": {},
   "outputs": [],
   "source": [
    "def grad(f):\n",
    "    def grad_help(*args):\n",
    "        h = 1e-10\n",
    "        dim = len(args)\n",
    "        return [(\n",
    "                        f(*[args[j] + (h if j == i else 0) for j in range(dim)])\n",
    "                        -\n",
    "                        f(*[args[j] - (h if j == i else 0) for j in range(dim)])\n",
    "                ) / (2 * h)\n",
    "                for i in range(dim)]\n",
    "    return grad_help"
   ]
  },
  {
   "cell_type": "code",
   "execution_count": 87,
   "metadata": {},
   "outputs": [],
   "source": [
    "def my_lbfgs(f, x0, m = 5, eps = 1e-9, epochs=100, h_init=1, **config):\n",
    "    return lbfgs(f, x0, grad(f), m = 5, eps = 1e-9, epochs=100, h_init=1, **config)"
   ]
  },
  {
   "cell_type": "code",
   "execution_count": 90,
   "metadata": {},
   "outputs": [
    {
     "ename": "ValueError",
     "evalue": "shapes (10,10) and (1,10) not aligned: 10 (dim 1) != 1 (dim 0)",
     "output_type": "error",
     "traceback": [
      "\u001b[1;31m---------------------------------------------------------------------------\u001b[0m",
      "\u001b[1;31mValueError\u001b[0m                                Traceback (most recent call last)",
      "\u001b[1;32mc:\\Users\\kanad\\ITMO\\Labs\\Metopts\\MLab1\\y2020-ITMO-MO\\3\\3_L-BFGS.ipynb Cell 12'\u001b[0m in \u001b[0;36m<cell line: 1>\u001b[1;34m()\u001b[0m\n\u001b[1;32m----> <a href='vscode-notebook-cell:/c%3A/Users/kanad/ITMO/Labs/Metopts/MLab1/y2020-ITMO-MO/3/3_L-BFGS.ipynb#ch0000013?line=0'>1</a>\u001b[0m regression(\u001b[39m*\u001b[39;49mline, my_lbfgs)\n",
      "\u001b[1;32mc:\\Users\\kanad\\ITMO\\Labs\\Metopts\\MLab1\\y2020-ITMO-MO\\3\\3_L-BFGS.ipynb Cell 8'\u001b[0m in \u001b[0;36mregression\u001b[1;34m(x, y, method, batch_size, **config)\u001b[0m\n\u001b[0;32m      <a href='vscode-notebook-cell:/c%3A/Users/kanad/ITMO/Labs/Metopts/MLab1/y2020-ITMO-MO/3/3_L-BFGS.ipynb#ch0000014?line=5'>6</a>\u001b[0m batch_choice \u001b[39m=\u001b[39m \u001b[39mlambda\u001b[39;00m batch_size: \u001b[39mlist\u001b[39m(\u001b[39mset\u001b[39m(np\u001b[39m.\u001b[39mrandom\u001b[39m.\u001b[39mchoice(np\u001b[39m.\u001b[39marange(x\u001b[39m.\u001b[39mshape[\u001b[39m0\u001b[39m]), batch_size, replace\u001b[39m=\u001b[39m\u001b[39mFalse\u001b[39;00m)))\n\u001b[0;32m      <a href='vscode-notebook-cell:/c%3A/Users/kanad/ITMO/Labs/Metopts/MLab1/y2020-ITMO-MO/3/3_L-BFGS.ipynb#ch0000014?line=6'>7</a>\u001b[0m f_batch_size \u001b[39m=\u001b[39m \u001b[39mlambda\u001b[39;00m batch_size: \\\n\u001b[0;32m      <a href='vscode-notebook-cell:/c%3A/Users/kanad/ITMO/Labs/Metopts/MLab1/y2020-ITMO-MO/3/3_L-BFGS.ipynb#ch0000014?line=7'>8</a>\u001b[0m                    \u001b[39mlambda\u001b[39;00m \u001b[39m*\u001b[39mb, batch\u001b[39m=\u001b[39mbatch_choice(batch_size): \\\n\u001b[0;32m      <a href='vscode-notebook-cell:/c%3A/Users/kanad/ITMO/Labs/Metopts/MLab1/y2020-ITMO-MO/3/3_L-BFGS.ipynb#ch0000014?line=8'>9</a>\u001b[0m                        np\u001b[39m.\u001b[39mlinalg\u001b[39m.\u001b[39mnorm((y[batch] \u001b[39m-\u001b[39m x_mat[batch]\u001b[39m.\u001b[39mdot(b)))\n\u001b[1;32m---> <a href='vscode-notebook-cell:/c%3A/Users/kanad/ITMO/Labs/Metopts/MLab1/y2020-ITMO-MO/3/3_L-BFGS.ipynb#ch0000014?line=9'>10</a>\u001b[0m bs \u001b[39m=\u001b[39m method(f_batch_size(batch_size), np\u001b[39m.\u001b[39mfull(k, \u001b[39m1\u001b[39m), \u001b[39m*\u001b[39m\u001b[39m*\u001b[39mconfig)\n\u001b[0;32m     <a href='vscode-notebook-cell:/c%3A/Users/kanad/ITMO/Labs/Metopts/MLab1/y2020-ITMO-MO/3/3_L-BFGS.ipynb#ch0000014?line=10'>11</a>\u001b[0m f \u001b[39m=\u001b[39m f_batch_size(x\u001b[39m.\u001b[39mshape[\u001b[39m0\u001b[39m])\n\u001b[0;32m     <a href='vscode-notebook-cell:/c%3A/Users/kanad/ITMO/Labs/Metopts/MLab1/y2020-ITMO-MO/3/3_L-BFGS.ipynb#ch0000014?line=11'>12</a>\u001b[0m \u001b[39mprint\u001b[39m(\u001b[39mf\u001b[39m\u001b[39m'\u001b[39m\u001b[39mcame close by \u001b[39m\u001b[39m{\u001b[39;00mf(\u001b[39m*\u001b[39mbs[\u001b[39m-\u001b[39m\u001b[39m1\u001b[39m])\u001b[39m}\u001b[39;00m\u001b[39m'\u001b[39m)\n",
      "\u001b[1;32mc:\\Users\\kanad\\ITMO\\Labs\\Metopts\\MLab1\\y2020-ITMO-MO\\3\\3_L-BFGS.ipynb Cell 11'\u001b[0m in \u001b[0;36mmy_lbfgs\u001b[1;34m(f, x0, m, eps, epochs, h_init, **config)\u001b[0m\n\u001b[0;32m      <a href='vscode-notebook-cell:/c%3A/Users/kanad/ITMO/Labs/Metopts/MLab1/y2020-ITMO-MO/3/3_L-BFGS.ipynb#ch0000017?line=0'>1</a>\u001b[0m \u001b[39mdef\u001b[39;00m \u001b[39mmy_lbfgs\u001b[39m(f, x0, m \u001b[39m=\u001b[39m \u001b[39m5\u001b[39m, eps \u001b[39m=\u001b[39m \u001b[39m1e-9\u001b[39m, epochs\u001b[39m=\u001b[39m\u001b[39m100\u001b[39m, h_init\u001b[39m=\u001b[39m\u001b[39m1\u001b[39m, \u001b[39m*\u001b[39m\u001b[39m*\u001b[39mconfig):\n\u001b[1;32m----> <a href='vscode-notebook-cell:/c%3A/Users/kanad/ITMO/Labs/Metopts/MLab1/y2020-ITMO-MO/3/3_L-BFGS.ipynb#ch0000017?line=1'>2</a>\u001b[0m     \u001b[39mreturn\u001b[39;00m lbfgs(f, x0, grad(f), m \u001b[39m=\u001b[39m \u001b[39m5\u001b[39m, eps \u001b[39m=\u001b[39m \u001b[39m1e-9\u001b[39m, epochs\u001b[39m=\u001b[39m\u001b[39m100\u001b[39m, h_init\u001b[39m=\u001b[39m\u001b[39m1\u001b[39m, \u001b[39m*\u001b[39m\u001b[39m*\u001b[39mconfig)\n",
      "\u001b[1;32mc:\\Users\\kanad\\ITMO\\Labs\\Metopts\\MLab1\\y2020-ITMO-MO\\3\\3_L-BFGS.ipynb Cell 5'\u001b[0m in \u001b[0;36mlbfgs\u001b[1;34m(f, x0, grad, m, eps, epochs, h_init, **config)\u001b[0m\n\u001b[0;32m      <a href='vscode-notebook-cell:/c%3A/Users/kanad/ITMO/Labs/Metopts/MLab1/y2020-ITMO-MO/3/3_L-BFGS.ipynb#ch0000005?line=1'>2</a>\u001b[0m x \u001b[39m=\u001b[39m np\u001b[39m.\u001b[39mcopy(x0)\n\u001b[0;32m      <a href='vscode-notebook-cell:/c%3A/Users/kanad/ITMO/Labs/Metopts/MLab1/y2020-ITMO-MO/3/3_L-BFGS.ipynb#ch0000005?line=2'>3</a>\u001b[0m points_history \u001b[39m=\u001b[39m [x]\n\u001b[1;32m----> <a href='vscode-notebook-cell:/c%3A/Users/kanad/ITMO/Labs/Metopts/MLab1/y2020-ITMO-MO/3/3_L-BFGS.ipynb#ch0000005?line=3'>4</a>\u001b[0m g \u001b[39m=\u001b[39m np\u001b[39m.\u001b[39marray(grad(x))\n\u001b[0;32m      <a href='vscode-notebook-cell:/c%3A/Users/kanad/ITMO/Labs/Metopts/MLab1/y2020-ITMO-MO/3/3_L-BFGS.ipynb#ch0000005?line=4'>5</a>\u001b[0m history \u001b[39m=\u001b[39m History(m)\n\u001b[0;32m      <a href='vscode-notebook-cell:/c%3A/Users/kanad/ITMO/Labs/Metopts/MLab1/y2020-ITMO-MO/3/3_L-BFGS.ipynb#ch0000005?line=6'>7</a>\u001b[0m \u001b[39mfor\u001b[39;00m epoch \u001b[39min\u001b[39;00m \u001b[39m0.\u001b[39m\u001b[39m.\u001b[39mepochs\u001b[39m+\u001b[39m\u001b[39m1\u001b[39m:\n",
      "\u001b[1;32mc:\\Users\\kanad\\ITMO\\Labs\\Metopts\\MLab1\\y2020-ITMO-MO\\3\\3_L-BFGS.ipynb Cell 10'\u001b[0m in \u001b[0;36mgrad.<locals>.grad_help\u001b[1;34m(*args)\u001b[0m\n\u001b[0;32m      <a href='vscode-notebook-cell:/c%3A/Users/kanad/ITMO/Labs/Metopts/MLab1/y2020-ITMO-MO/3/3_L-BFGS.ipynb#ch0000015?line=2'>3</a>\u001b[0m h \u001b[39m=\u001b[39m \u001b[39m1e-10\u001b[39m\n\u001b[0;32m      <a href='vscode-notebook-cell:/c%3A/Users/kanad/ITMO/Labs/Metopts/MLab1/y2020-ITMO-MO/3/3_L-BFGS.ipynb#ch0000015?line=3'>4</a>\u001b[0m dim \u001b[39m=\u001b[39m \u001b[39mlen\u001b[39m(args)\n\u001b[1;32m----> <a href='vscode-notebook-cell:/c%3A/Users/kanad/ITMO/Labs/Metopts/MLab1/y2020-ITMO-MO/3/3_L-BFGS.ipynb#ch0000015?line=4'>5</a>\u001b[0m \u001b[39mreturn\u001b[39;00m [(\n\u001b[0;32m      <a href='vscode-notebook-cell:/c%3A/Users/kanad/ITMO/Labs/Metopts/MLab1/y2020-ITMO-MO/3/3_L-BFGS.ipynb#ch0000015?line=5'>6</a>\u001b[0m                 f(\u001b[39m*\u001b[39m[args[j] \u001b[39m+\u001b[39m (h \u001b[39mif\u001b[39;00m j \u001b[39m==\u001b[39m i \u001b[39melse\u001b[39;00m \u001b[39m0\u001b[39m) \u001b[39mfor\u001b[39;00m j \u001b[39min\u001b[39;00m \u001b[39mrange\u001b[39m(dim)])\n\u001b[0;32m      <a href='vscode-notebook-cell:/c%3A/Users/kanad/ITMO/Labs/Metopts/MLab1/y2020-ITMO-MO/3/3_L-BFGS.ipynb#ch0000015?line=6'>7</a>\u001b[0m                 \u001b[39m-\u001b[39m\n\u001b[0;32m      <a href='vscode-notebook-cell:/c%3A/Users/kanad/ITMO/Labs/Metopts/MLab1/y2020-ITMO-MO/3/3_L-BFGS.ipynb#ch0000015?line=7'>8</a>\u001b[0m                 f(\u001b[39m*\u001b[39m[args[j] \u001b[39m-\u001b[39m (h \u001b[39mif\u001b[39;00m j \u001b[39m==\u001b[39m i \u001b[39melse\u001b[39;00m \u001b[39m0\u001b[39m) \u001b[39mfor\u001b[39;00m j \u001b[39min\u001b[39;00m \u001b[39mrange\u001b[39m(dim)])\n\u001b[0;32m      <a href='vscode-notebook-cell:/c%3A/Users/kanad/ITMO/Labs/Metopts/MLab1/y2020-ITMO-MO/3/3_L-BFGS.ipynb#ch0000015?line=8'>9</a>\u001b[0m         ) \u001b[39m/\u001b[39m (\u001b[39m2\u001b[39m \u001b[39m*\u001b[39m h)\n\u001b[0;32m     <a href='vscode-notebook-cell:/c%3A/Users/kanad/ITMO/Labs/Metopts/MLab1/y2020-ITMO-MO/3/3_L-BFGS.ipynb#ch0000015?line=9'>10</a>\u001b[0m         \u001b[39mfor\u001b[39;00m i \u001b[39min\u001b[39;00m \u001b[39mrange\u001b[39m(dim)]\n",
      "\u001b[1;32mc:\\Users\\kanad\\ITMO\\Labs\\Metopts\\MLab1\\y2020-ITMO-MO\\3\\3_L-BFGS.ipynb Cell 10'\u001b[0m in \u001b[0;36m<listcomp>\u001b[1;34m(.0)\u001b[0m\n\u001b[0;32m      <a href='vscode-notebook-cell:/c%3A/Users/kanad/ITMO/Labs/Metopts/MLab1/y2020-ITMO-MO/3/3_L-BFGS.ipynb#ch0000015?line=2'>3</a>\u001b[0m h \u001b[39m=\u001b[39m \u001b[39m1e-10\u001b[39m\n\u001b[0;32m      <a href='vscode-notebook-cell:/c%3A/Users/kanad/ITMO/Labs/Metopts/MLab1/y2020-ITMO-MO/3/3_L-BFGS.ipynb#ch0000015?line=3'>4</a>\u001b[0m dim \u001b[39m=\u001b[39m \u001b[39mlen\u001b[39m(args)\n\u001b[0;32m      <a href='vscode-notebook-cell:/c%3A/Users/kanad/ITMO/Labs/Metopts/MLab1/y2020-ITMO-MO/3/3_L-BFGS.ipynb#ch0000015?line=4'>5</a>\u001b[0m \u001b[39mreturn\u001b[39;00m [(\n\u001b[1;32m----> <a href='vscode-notebook-cell:/c%3A/Users/kanad/ITMO/Labs/Metopts/MLab1/y2020-ITMO-MO/3/3_L-BFGS.ipynb#ch0000015?line=5'>6</a>\u001b[0m                 f(\u001b[39m*\u001b[39;49m[args[j] \u001b[39m+\u001b[39;49m (h \u001b[39mif\u001b[39;49;00m j \u001b[39m==\u001b[39;49m i \u001b[39melse\u001b[39;49;00m \u001b[39m0\u001b[39;49m) \u001b[39mfor\u001b[39;49;00m j \u001b[39min\u001b[39;49;00m \u001b[39mrange\u001b[39;49m(dim)])\n\u001b[0;32m      <a href='vscode-notebook-cell:/c%3A/Users/kanad/ITMO/Labs/Metopts/MLab1/y2020-ITMO-MO/3/3_L-BFGS.ipynb#ch0000015?line=6'>7</a>\u001b[0m                 \u001b[39m-\u001b[39m\n\u001b[0;32m      <a href='vscode-notebook-cell:/c%3A/Users/kanad/ITMO/Labs/Metopts/MLab1/y2020-ITMO-MO/3/3_L-BFGS.ipynb#ch0000015?line=7'>8</a>\u001b[0m                 f(\u001b[39m*\u001b[39m[args[j] \u001b[39m-\u001b[39m (h \u001b[39mif\u001b[39;00m j \u001b[39m==\u001b[39m i \u001b[39melse\u001b[39;00m \u001b[39m0\u001b[39m) \u001b[39mfor\u001b[39;00m j \u001b[39min\u001b[39;00m \u001b[39mrange\u001b[39m(dim)])\n\u001b[0;32m      <a href='vscode-notebook-cell:/c%3A/Users/kanad/ITMO/Labs/Metopts/MLab1/y2020-ITMO-MO/3/3_L-BFGS.ipynb#ch0000015?line=8'>9</a>\u001b[0m         ) \u001b[39m/\u001b[39m (\u001b[39m2\u001b[39m \u001b[39m*\u001b[39m h)\n\u001b[0;32m     <a href='vscode-notebook-cell:/c%3A/Users/kanad/ITMO/Labs/Metopts/MLab1/y2020-ITMO-MO/3/3_L-BFGS.ipynb#ch0000015?line=9'>10</a>\u001b[0m         \u001b[39mfor\u001b[39;00m i \u001b[39min\u001b[39;00m \u001b[39mrange\u001b[39m(dim)]\n",
      "\u001b[1;32mc:\\Users\\kanad\\ITMO\\Labs\\Metopts\\MLab1\\y2020-ITMO-MO\\3\\3_L-BFGS.ipynb Cell 8'\u001b[0m in \u001b[0;36mregression.<locals>.<lambda>.<locals>.<lambda>\u001b[1;34m(batch, *b)\u001b[0m\n\u001b[0;32m      <a href='vscode-notebook-cell:/c%3A/Users/kanad/ITMO/Labs/Metopts/MLab1/y2020-ITMO-MO/3/3_L-BFGS.ipynb#ch0000014?line=4'>5</a>\u001b[0m k \u001b[39m=\u001b[39m x_mat\u001b[39m.\u001b[39mshape[\u001b[39m1\u001b[39m]\n\u001b[0;32m      <a href='vscode-notebook-cell:/c%3A/Users/kanad/ITMO/Labs/Metopts/MLab1/y2020-ITMO-MO/3/3_L-BFGS.ipynb#ch0000014?line=5'>6</a>\u001b[0m batch_choice \u001b[39m=\u001b[39m \u001b[39mlambda\u001b[39;00m batch_size: \u001b[39mlist\u001b[39m(\u001b[39mset\u001b[39m(np\u001b[39m.\u001b[39mrandom\u001b[39m.\u001b[39mchoice(np\u001b[39m.\u001b[39marange(x\u001b[39m.\u001b[39mshape[\u001b[39m0\u001b[39m]), batch_size, replace\u001b[39m=\u001b[39m\u001b[39mFalse\u001b[39;00m)))\n\u001b[0;32m      <a href='vscode-notebook-cell:/c%3A/Users/kanad/ITMO/Labs/Metopts/MLab1/y2020-ITMO-MO/3/3_L-BFGS.ipynb#ch0000014?line=6'>7</a>\u001b[0m f_batch_size \u001b[39m=\u001b[39m \u001b[39mlambda\u001b[39;00m batch_size: \\\n\u001b[0;32m      <a href='vscode-notebook-cell:/c%3A/Users/kanad/ITMO/Labs/Metopts/MLab1/y2020-ITMO-MO/3/3_L-BFGS.ipynb#ch0000014?line=7'>8</a>\u001b[0m                    \u001b[39mlambda\u001b[39;00m \u001b[39m*\u001b[39mb, batch\u001b[39m=\u001b[39mbatch_choice(batch_size): \\\n\u001b[1;32m----> <a href='vscode-notebook-cell:/c%3A/Users/kanad/ITMO/Labs/Metopts/MLab1/y2020-ITMO-MO/3/3_L-BFGS.ipynb#ch0000014?line=8'>9</a>\u001b[0m                        np\u001b[39m.\u001b[39mlinalg\u001b[39m.\u001b[39mnorm((y[batch] \u001b[39m-\u001b[39m x_mat[batch]\u001b[39m.\u001b[39;49mdot(b)))\n\u001b[0;32m     <a href='vscode-notebook-cell:/c%3A/Users/kanad/ITMO/Labs/Metopts/MLab1/y2020-ITMO-MO/3/3_L-BFGS.ipynb#ch0000014?line=9'>10</a>\u001b[0m bs \u001b[39m=\u001b[39m method(f_batch_size(batch_size), np\u001b[39m.\u001b[39mfull(k, \u001b[39m1\u001b[39m), \u001b[39m*\u001b[39m\u001b[39m*\u001b[39mconfig)\n\u001b[0;32m     <a href='vscode-notebook-cell:/c%3A/Users/kanad/ITMO/Labs/Metopts/MLab1/y2020-ITMO-MO/3/3_L-BFGS.ipynb#ch0000014?line=10'>11</a>\u001b[0m f \u001b[39m=\u001b[39m f_batch_size(x\u001b[39m.\u001b[39mshape[\u001b[39m0\u001b[39m])\n",
      "\u001b[1;31mValueError\u001b[0m: shapes (10,10) and (1,10) not aligned: 10 (dim 1) != 1 (dim 0)"
     ]
    }
   ],
   "source": [
    "regression(*line, my_lbfgs)"
   ]
  }
 ],
 "metadata": {
  "kernelspec": {
   "display_name": "Python 3.10.5 64-bit (windows store)",
   "language": "python",
   "name": "python3"
  },
  "language_info": {
   "codemirror_mode": {
    "name": "ipython",
    "version": 3
   },
   "file_extension": ".py",
   "mimetype": "text/x-python",
   "name": "python",
   "nbconvert_exporter": "python",
   "pygments_lexer": "ipython3",
   "version": "3.10.5"
  },
  "orig_nbformat": 4,
  "vscode": {
   "interpreter": {
    "hash": "48a429b68bfe294dfceff3aeb8f85c80ee1547a69b0bf12125e2832c4e1159cc"
   }
  }
 },
 "nbformat": 4,
 "nbformat_minor": 2
}
